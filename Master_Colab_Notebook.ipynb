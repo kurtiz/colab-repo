{
  "nbformat": 4,
  "nbformat_minor": 0,
  "metadata": {
    "colab": {
      "name": "Master_Colab_Notebook_Updated_Feb-2020_BlackPearl.ipynb",
      "provenance": [],
      "collapsed_sections": [
        "cOUZEXihsqCD",
        "bNAroQWy6hL3",
        "wZMZjX127rmx",
        "4E-uzYrv5o0B",
        "ZVIyGBSmjlOY",
        "AAOkoLYa1nQb",
        "smfdosUWghxD",
        "Nx9ud5luiyJY",
        "8YFON0D4mVdr",
        "mtIWnZ60Sczn",
        "jWNiE-RGECHM",
        "MbJ_88vSD-K2",
        "XgMQmTB8EToD",
        "cLQnx323EdqO",
        "yTPpo294F0U8",
        "DYreGU9NvCdk",
        "OSG8fIhSAmZ-",
        "ukxnQC4c0nuR",
        "EFOqhHG6hOVH",
        "KgNPvGccgwd8",
        "RDHuIkoi6l9a",
        "NQ0TxfKeghR8",
        "FpJXJiRl6-gK",
        "2f-THZmDoOaY",
        "MSUasbRUDP3B",
        "0xI8WiUPji3k",
        "QlsUJhNwyeV3",
        "cHTe9qp2E6f5",
        "kAdRu4gm5k8v"
      ],
      "include_colab_link": true
    },
    "kernelspec": {
      "name": "python3",
      "display_name": "Python 3"
    },
    "accelerator": "GPU",
    "widgets": {
      "application/vnd.jupyter.widget-state+json": {
        "9314f25b09434cff856408ffc515ac17": {
          "model_module": "@jupyter-widgets/controls",
          "model_name": "ButtonModel",
          "state": {
            "_view_name": "ButtonView",
            "style": "IPY_MODEL_beb6c29217214a289215f2beaffb73d3",
            "_dom_classes": [],
            "description": "✔ Successfully",
            "_model_name": "ButtonModel",
            "button_style": "success",
            "_view_module": "@jupyter-widgets/controls",
            "_model_module_version": "1.5.0",
            "tooltip": "",
            "_view_count": null,
            "disabled": true,
            "_view_module_version": "1.5.0",
            "layout": "IPY_MODEL_77812b0929144cbf9863e3a45e8675c5",
            "_model_module": "@jupyter-widgets/controls",
            "icon": ""
          },
          "model_module_version": "1.5.0"
        },
        "beb6c29217214a289215f2beaffb73d3": {
          "model_module": "@jupyter-widgets/controls",
          "model_name": "ButtonStyleModel",
          "state": {
            "_view_name": "StyleView",
            "_model_name": "ButtonStyleModel",
            "_view_module": "@jupyter-widgets/base",
            "_model_module_version": "1.5.0",
            "_view_count": null,
            "button_color": null,
            "font_weight": "",
            "_view_module_version": "1.2.0",
            "_model_module": "@jupyter-widgets/controls"
          },
          "model_module_version": "1.5.0"
        },
        "77812b0929144cbf9863e3a45e8675c5": {
          "model_module": "@jupyter-widgets/base",
          "model_name": "LayoutModel",
          "state": {
            "_view_name": "LayoutView",
            "grid_template_rows": null,
            "right": null,
            "justify_content": null,
            "_view_module": "@jupyter-widgets/base",
            "overflow": null,
            "_model_module_version": "1.2.0",
            "_view_count": null,
            "flex_flow": null,
            "width": null,
            "min_width": null,
            "border": null,
            "align_items": null,
            "bottom": null,
            "_model_module": "@jupyter-widgets/base",
            "top": null,
            "grid_column": null,
            "overflow_y": null,
            "overflow_x": null,
            "grid_auto_flow": null,
            "grid_area": null,
            "grid_template_columns": null,
            "flex": null,
            "_model_name": "LayoutModel",
            "justify_items": null,
            "grid_row": null,
            "max_height": null,
            "align_content": null,
            "visibility": null,
            "align_self": null,
            "height": null,
            "min_height": null,
            "padding": null,
            "grid_auto_rows": null,
            "grid_gap": null,
            "max_width": null,
            "order": null,
            "_view_module_version": "1.2.0",
            "grid_template_areas": null,
            "object_position": null,
            "object_fit": null,
            "grid_auto_columns": null,
            "margin": null,
            "display": null,
            "left": null
          },
          "model_module_version": "1.2.0"
        },
        "00864400665943efa8e43906f4de4a3d": {
          "model_module": "@jupyter-widgets/controls",
          "model_name": "ButtonModel",
          "state": {
            "_view_name": "ButtonView",
            "style": "IPY_MODEL_157deaa02272406c8d665cafa5005c77",
            "_dom_classes": [],
            "description": "Control Panel",
            "_model_name": "ButtonModel",
            "button_style": "",
            "_view_module": "@jupyter-widgets/controls",
            "_model_module_version": "1.5.0",
            "tooltip": "",
            "_view_count": null,
            "disabled": true,
            "_view_module_version": "1.5.0",
            "layout": "IPY_MODEL_6716f2e4cf2942e3afb9633563862cc6",
            "_model_module": "@jupyter-widgets/controls",
            "icon": ""
          },
          "model_module_version": "1.5.0"
        },
        "157deaa02272406c8d665cafa5005c77": {
          "model_module": "@jupyter-widgets/controls",
          "model_name": "ButtonStyleModel",
          "state": {
            "_view_name": "StyleView",
            "_model_name": "ButtonStyleModel",
            "_view_module": "@jupyter-widgets/base",
            "_model_module_version": "1.5.0",
            "_view_count": null,
            "button_color": null,
            "font_weight": "",
            "_view_module_version": "1.2.0",
            "_model_module": "@jupyter-widgets/controls"
          },
          "model_module_version": "1.5.0"
        },
        "6716f2e4cf2942e3afb9633563862cc6": {
          "model_module": "@jupyter-widgets/base",
          "model_name": "LayoutModel",
          "state": {
            "_view_name": "LayoutView",
            "grid_template_rows": null,
            "right": null,
            "justify_content": null,
            "_view_module": "@jupyter-widgets/base",
            "overflow": null,
            "_model_module_version": "1.2.0",
            "_view_count": null,
            "flex_flow": null,
            "width": null,
            "min_width": null,
            "border": null,
            "align_items": null,
            "bottom": null,
            "_model_module": "@jupyter-widgets/base",
            "top": null,
            "grid_column": null,
            "overflow_y": null,
            "overflow_x": null,
            "grid_auto_flow": null,
            "grid_area": null,
            "grid_template_columns": null,
            "flex": null,
            "_model_name": "LayoutModel",
            "justify_items": null,
            "grid_row": null,
            "max_height": null,
            "align_content": null,
            "visibility": null,
            "align_self": null,
            "height": null,
            "min_height": null,
            "padding": null,
            "grid_auto_rows": null,
            "grid_gap": null,
            "max_width": null,
            "order": null,
            "_view_module_version": "1.2.0",
            "grid_template_areas": null,
            "object_position": null,
            "object_fit": null,
            "grid_auto_columns": null,
            "margin": null,
            "display": null,
            "left": null
          },
          "model_module_version": "1.2.0"
        }
      }
    }
  },
  "cells": [
    {
      "cell_type": "markdown",
      "metadata": {
        "id": "view-in-github",
        "colab_type": "text"
      },
      "source": [
        "<a href=\"https://colab.research.google.com/github/kurtiz/colab-repo/blob/main/Master_Colab_Notebook.ipynb\" target=\"_parent\"><img src=\"https://colab.research.google.com/assets/colab-badge.svg\" alt=\"Open In Colab\"/></a>"
      ]
    },
    {
      "cell_type": "markdown",
      "metadata": {
        "id": "zRTgBdCpBWMh"
      },
      "source": [
        "# ✦ *Quick Useful Scripts:*"
      ]
    },
    {
      "cell_type": "markdown",
      "metadata": {
        "id": "cOUZEXihsqCD"
      },
      "source": [
        "## ✧ MediaInfo"
      ]
    },
    {
      "cell_type": "code",
      "metadata": {
        "id": "NTULRguzu0b0",
        "cellView": "form"
      },
      "source": [
        "path = \"\" #@param {type:\"string\"}\n",
        "save_txt = False #@param {type:\"boolean\"}\n",
        "import os, uuid, re, IPython\n",
        "import ipywidgets as widgets\n",
        "import time\n",
        "\n",
        "from glob import glob\n",
        "from IPython.display import HTML, clear_output\n",
        "from google.colab import output, drive\n",
        "\n",
        "def mediainfo():\n",
        "  display(HTML(\"<br>\"))\n",
        "#   print(path.split(\"/\")[::-1][0])\n",
        "  display(HTML(\"<br>\"))\n",
        "#   media = !mediainfo \"$path\"\n",
        "#   media = \"\\n\".join(media).replace(os.path.dirname(path)+\"/\", \"\")\n",
        "  get_ipython().system_raw(\"\"\"mediainfo --LogFile=\"/root/.nfo\" \"$path\" \"\"\")\n",
        "  with open('/root/.nfo', 'r') as file:\n",
        "    media = file.read()\n",
        "    media = media.replace(os.path.dirname(path)+\"/\", \"\")\n",
        "  print(media)\n",
        "  get_ipython().system_raw(\"rm -f '/root/.nfo'\")\n",
        "  \n",
        "  if save_txt:\n",
        "    txt = path.rpartition('.')[0] + \".txt\"\n",
        "    if os.path.exists(txt):\n",
        "      get_ipython().system_raw(\"rm -f '$txt'\")\n",
        "    !curl -s https://pastebin.com/raw/TApKLQfM -o \"$txt\"\n",
        "    with open(txt, 'a+') as file:\n",
        "      file.write(\"\\n\\n\")\n",
        "      file.write(media)\n",
        "\n",
        "while not os.path.exists(\"/content/drive\"):\n",
        "  try:\n",
        "    drive.mount(\"/content/drive\")\n",
        "    clear_output(wait=True)\n",
        "  except:\n",
        "    clear_output()\n",
        "    \n",
        "if not os.path.exists(\"/usr/bin/mediainfo\"):\n",
        "  get_ipython().system_raw(\"apt-get install mediainfo\")\n",
        "  \n",
        "mediainfo()"
      ],
      "execution_count": null,
      "outputs": []
    },
    {
      "cell_type": "markdown",
      "metadata": {
        "id": "bNAroQWy6hL3"
      },
      "source": [
        "## ✧ Generate Streamable Video Links from Google Drive\n",
        "##### *Note: This cell will only work with links that are shared publically*"
      ]
    },
    {
      "cell_type": "code",
      "metadata": {
        "cellView": "form",
        "id": "W4EXnKHuwmq0"
      },
      "source": [
        "import re\n",
        "\n",
        "shared_file_link = \"https://drive.google.com/open?id=\" #@param {type:\"string\"}\n",
        "result = re.search(\"[\\w-]{33}\", shared_file_link)\n",
        "your_api_key = \"\" #@param {type:\"string\"}\n",
        "drive_file_id = result.group(0)\n",
        "\n",
        "beg_url = \"https://www.googleapis.com/drive/v3/files/\"\n",
        "end_url = \"/?key=\" + your_api_key + \"&alt=media\"\n",
        "\n",
        "print(beg_url + drive_file_id + end_url)\n",
        "\n",
        "## *This cell will only work with links that are shared publically*"
      ],
      "execution_count": null,
      "outputs": []
    },
    {
      "cell_type": "code",
      "metadata": {
        "id": "Rwe2KvdmVdxY",
        "colab": {
          "base_uri": "https://localhost:8080/",
          "height": 219
        },
        "outputId": "b2785afa-9035-454c-a467-d96d3c57b004"
      },
      "source": [
        "!wget -P /content/drive/My Drive/illustrator.rar  http://d1.usersdrive.com:182/d/z6j5rjyb2as5ln23o3j3bwlcfago2gvmsx4o2y37262ekvchlgwzfw2m2gwtijc2zbaify5z/up4pc.com_Adobe%20Illustrator%202020%20v24.1.1.376.rar"
      ],
      "execution_count": null,
      "outputs": [
        {
          "output_type": "stream",
          "text": [
            "--2020-03-21 18:31:16--  http://drive/illustrator.rar\n",
            "Resolving drive (drive)... failed: No address associated with hostname.\n",
            "wget: unable to resolve host address ‘drive’\n",
            "--2020-03-21 18:31:16--  http://d1.usersdrive.com:182/d/z6j5rjyb2as5ln23o3j3bwlcfago2gvmsx4o2y37262ekvchlgwzfw2m2gwtijc2zbaify5z/up4pc.com_Adobe%20Illustrator%202020%20v24.1.1.376.rar\n",
            "Resolving d1.usersdrive.com (d1.usersdrive.com)... 83.149.119.75\n",
            "Connecting to d1.usersdrive.com (d1.usersdrive.com)|83.149.119.75|:182... connected.\n",
            "HTTP request sent, awaiting response... Read error (Connection reset by peer) in headers.\n",
            "Retrying.\n",
            "\n"
          ],
          "name": "stdout"
        }
      ]
    },
    {
      "cell_type": "code",
      "metadata": {
        "id": "eCgYUFe4VnXW",
        "colab": {
          "base_uri": "https://localhost:8080/",
          "height": 122
        },
        "outputId": "2f34b4e0-c9a2-46a4-e9ae-059d68ad4c1d"
      },
      "source": [
        "from google.colab import drive\n",
        "drive.mount('/content/drive')"
      ],
      "execution_count": null,
      "outputs": [
        {
          "output_type": "stream",
          "text": [
            "Go to this URL in a browser: https://accounts.google.com/o/oauth2/auth?client_id=947318989803-6bn6qk8qdgf4n4g3pfee6491hc0brc4i.apps.googleusercontent.com&redirect_uri=urn%3aietf%3awg%3aoauth%3a2.0%3aoob&response_type=code&scope=email%20https%3a%2f%2fwww.googleapis.com%2fauth%2fdocs.test%20https%3a%2f%2fwww.googleapis.com%2fauth%2fdrive%20https%3a%2f%2fwww.googleapis.com%2fauth%2fdrive.photos.readonly%20https%3a%2f%2fwww.googleapis.com%2fauth%2fpeopleapi.readonly\n",
            "\n",
            "Enter your authorization code:\n",
            "··········\n",
            "Mounted at /content/drive\n"
          ],
          "name": "stdout"
        }
      ]
    },
    {
      "cell_type": "markdown",
      "metadata": {
        "id": "wZMZjX127rmx"
      },
      "source": [
        "## ✧ Crash Colab to clear all RAM"
      ]
    },
    {
      "cell_type": "code",
      "metadata": {
        "id": "OH3xVkwWmPYL"
      },
      "source": [
        "#@title ← ឵឵ ឵Run this cell to crash your current Runtime if you're low on memory\n",
        "#@markdown <i>After crashing, you'll have access to all the preoccupied storage</i>\n",
        "some_str = ' ' * 5120000000000"
      ],
      "execution_count": null,
      "outputs": []
    },
    {
      "cell_type": "markdown",
      "metadata": {
        "id": "4E-uzYrv5o0B"
      },
      "source": [
        "# **0.** Mounting with rclone\n",
        "# <img src='https://forum.rclone.org/uploads/default/original/2X/d/da6ccb2784ff3fa73d9339300530e0aae4d6cebd.png' height=\"46\" alt=\"rclone\"/>"
      ]
    },
    {
      "cell_type": "code",
      "metadata": {
        "id": "iroeLPFdXbif",
        "cellView": "form"
      },
      "source": [
        "#@markdown <h3><b>Step 1. </b>Upload your <code>rclone.conf</code> profile</h3>\n",
        "#@markdown <h6>*<i>required to mount your drive!</i></h4>\n",
        "#@markdown \n",
        "Setup_Time_Zone = False \n",
        "\n",
        "import os; from google.colab import files; from IPython.display import HTML, clear_output\n",
        "\n",
        "def upload_conf():\n",
        "  try:\n",
        "    display(HTML(\"<h2 style=\\\"font-family:Trebuchet MS;color:#446785;\\\">Please upload the config file of rclone (rclone.conf) from your computer.</h2><br>\"))\n",
        "    UploadConfig = files.upload().keys()\n",
        "    clear_output(wait=True)\n",
        "    if len(UploadConfig) == 0:\n",
        "      return display(HTML(\"<center><h2 style=\\\"font-family:Trebuchet MS;color:#ce2121;\\\">File upload has been cancelled during upload file.</h2><br></center>\"))\n",
        "    elif len(UploadConfig) == 1:\n",
        "      for fn in UploadConfig:\n",
        "        if os.path.isfile(\"/content/\" + fn) == True:\n",
        "          os.environ[\"rclone_conf\"] = fn\n",
        "          !mv -f \"$rclone_conf\" /root/.rclone.conf\n",
        "          !chmod 666 /root/.rclone.conf\n",
        "          if Setup_Time_Zone == True:\n",
        "            !sudo dpkg-reconfigure tzdata\n",
        "            clear_output(wait=True)\n",
        "          if os.path.isfile(\"/usr/bin/rclone\") == True:\n",
        "            return display(HTML(\"<center><h2 style=\\\"font-family:Trebuchet MS;color:#00b24c;\\\">Config has been changed.</h2><br></center>\"))\n",
        "          else:\n",
        "            !rm -rf /content/sample_data/\n",
        "            !curl -s https://rclone.org/install.sh | sudo bash\n",
        "            clear_output(wait=True)\n",
        "            return display(HTML(\"<center><h2 style=\\\"font-family:Trebuchet MS;color:#446785;\\\">Installation has been successfully completed.</h2><br></center>\"))\n",
        "        else:\n",
        "          return display(HTML(\"<center><h2 style=\\\"font-family:Trebuchet MS;color:#ce2121;\\\">File upload has been failed during upload file.</h2><br></center>\"))\n",
        "    else:\n",
        "      for fn in UploadConfig:\n",
        "        os.environ[\"rclone_conf\"] = fn\n",
        "        !rm -f \"$rclone_conf\"\n",
        "      return display(HTML(\"<center><h2 style=\\\"font-family:Trebuchet MS;color:#ce2121;\\\">Please uploading only one file at a time.</h2><br></center>\"))\n",
        "  except:\n",
        "    clear_output(wait=True)\n",
        "    return display(HTML(\"<center><h2 style=\\\"font-family:Trebuchet MS;color:#ce2121;\\\">Error occurred during upload file.</h2><br></center>\"))\n",
        "\n",
        "upload_conf()"
      ],
      "execution_count": null,
      "outputs": []
    },
    {
      "cell_type": "code",
      "metadata": {
        "id": "mp6XoynaX4HN",
        "cellView": "form"
      },
      "source": [
        "# ============================= FORM ============================= #\n",
        "#@markdown <h3><b>Step 2</b>. Mount your Drive with rclone</h3>\n",
        "#@markdown <ul><li><i>Replace values to match the </i><code>rclone.conf</code><i> file you just uploaded</i></li></ul>\n",
        "rclone_config_name = \"GDrive\" #@param {type:\"string\"}\n",
        "local_mount_location = \"/content/udrive/\" #@param {type:\"string\"}\n",
        "# ============================= FORM ============================= #\n",
        "import time\n",
        "import os\n",
        "\n",
        "# clear nohup\n",
        "open(\"nohup.out\", 'w').close()\n",
        "\n",
        "\n",
        "# unmount first\n",
        "\n",
        "!fusermount -u $local_mount_location 2>/dev/null\n",
        "\n",
        "\n",
        "# mount without waiting for the command to complete\n",
        "!mkdir $local_mount_location 2>/dev/null\n",
        "!nohup rclone mount $rclone_config_name: $local_mount_location --buffer-size 96M & \n",
        "  \n",
        "\n",
        "\n",
        "# Show the output that was written to nohup\n",
        "time.sleep(3)\n",
        "f = open(r\"nohup.out\", \"r\")\n",
        "nohupText = f.read()\n",
        "f.close()\n",
        "\n",
        "\n",
        "dirs = os.listdir(local_mount_location)\n",
        "\n",
        "if len(dirs) > 0:\n",
        "  clear_output(wait=True)\n",
        "  print(\"Succeeded. \", str(len(dirs)), \"dirs found at\", local_mount_location)\n",
        "\n",
        "else:\n",
        "  print(\"\\n\\nNot succeeded. No files or directories in mounted location. \\nCheck your config name and content. If the rclone command was not found, run the cell above.\\n\\n\")\n",
        "  print(\"log:\\n\", nohupText)"
      ],
      "execution_count": null,
      "outputs": []
    },
    {
      "cell_type": "markdown",
      "metadata": {
        "id": "ZVIyGBSmjlOY"
      },
      "source": [
        "# **1**. Mounting Google Drive\n",
        "# <img src='https://i.ibb.co/nD9NnTc/drive.png' height=\"50\" alt=\"GDrive\"/>"
      ]
    },
    {
      "cell_type": "code",
      "metadata": {
        "id": "6DzJx4rdjvUQ",
        "cellView": "form",
        "colab": {
          "base_uri": "https://localhost:8080/",
          "height": 122
        },
        "outputId": "3c349490-3267-471d-fa29-a51f85ba027d"
      },
      "source": [
        "#@markdown <h2><b>←</b> ឵឵Click Here to Mount your Google Drive</h2>\n",
        "#@markdown <h5><i>(Provided by Google)</i></h5>\n",
        "from google.colab import drive\n",
        "drive.mount('/content/drive')"
      ],
      "execution_count": null,
      "outputs": [
        {
          "output_type": "stream",
          "text": [
            "Go to this URL in a browser: https://accounts.google.com/o/oauth2/auth?client_id=947318989803-6bn6qk8qdgf4n4g3pfee6491hc0brc4i.apps.googleusercontent.com&redirect_uri=urn%3aietf%3awg%3aoauth%3a2.0%3aoob&response_type=code&scope=email%20https%3a%2f%2fwww.googleapis.com%2fauth%2fdocs.test%20https%3a%2f%2fwww.googleapis.com%2fauth%2fdrive%20https%3a%2f%2fwww.googleapis.com%2fauth%2fdrive.photos.readonly%20https%3a%2f%2fwww.googleapis.com%2fauth%2fpeopleapi.readonly\n",
            "\n",
            "Enter your authorization code:\n",
            "··········\n",
            "Mounted at /content/drive\n"
          ],
          "name": "stdout"
        }
      ]
    },
    {
      "cell_type": "code",
      "metadata": {
        "id": "IsQPA4qZD4hK",
        "cellView": "form"
      },
      "source": [
        "#@markdown <h4><b>←</b> ឵឵Click Here to <b>Force Remount</b> your Google Drive</h4>\n",
        "#@markdown <h5><i>(Only use if needed)</i></h5>\n",
        "drive.mount(\"/content/drive\", force_remount=True)"
      ],
      "execution_count": null,
      "outputs": []
    },
    {
      "cell_type": "markdown",
      "metadata": {
        "id": "AAOkoLYa1nQb"
      },
      "source": [
        "# **2**. qBitTorrent\n",
        "# <img src='https://yuju.pw/y/8Axp.png' height=\"60\" alt=\"qBitTorrent\"/><img src='https://yuju.pw/y/qs5U.png' height=\"38\" alt=\"+\"/><img src='https://yuju.pw/y/qjCK.png' height='48' alt=\"ngrok\"/>"
      ]
    },
    {
      "cell_type": "markdown",
      "metadata": {
        "id": "smfdosUWghxD"
      },
      "source": [
        "## **A**. <img src='https://yuju.pw/y/3yVA.png' height=\"35\" alt=\"ngrok\"/>\n"
      ]
    },
    {
      "cell_type": "markdown",
      "metadata": {
        "id": "0jctMTc3-rPt"
      },
      "source": [
        "* You'll need your own ngrok Auth Token to use this cell. After logging in, you can find it [here](https://dashboard.ngrok.com/auth).\n",
        " * [Screenshot](https://yuju.pw/y/8Z3S.png) locating your ngrok Auth Token."
      ]
    },
    {
      "cell_type": "code",
      "metadata": {
        "cellView": "form",
        "id": "dmAyXqzfL9yK"
      },
      "source": [
        "#@title ← ឵឵ Run This Cell for ***qBitTorrent*** *v4.1.7 Web UI*\n",
        "Ngrok_Token = \"\" #@param {type:\"string\"}\n",
        "import os, time, urllib.request, json; from IPython.display import clear_output\n",
        "if os.path.isfile(\"/usr/bin/qbittorrent-nox\") == False:\n",
        "    get_ipython().system_raw(\"apt update -qq -y && yes \"\" | add-apt-repository ppa:qbittorrent-team/qbittorrent-stable\")\n",
        "    get_ipython().system_raw(\"apt install qbittorrent-nox\")\n",
        "    get_ipython().system_raw(\"mkdir -p -m 666 /{content/qBittorrent,root/{.qBittorrent_temp,.config/qBittorrent}} && curl -s https://pastebin.com/raw/XbthBkJU -o /root/.config/qBittorrent/qBittorrent.conf\")\n",
        "    print(\"qBittorrent successfully installed.\")\n",
        "    clear_output(wait=True)\n",
        "else:\n",
        "    print(\"qBittorrent already installed. Skipping...\")\n",
        "    clear_output(wait=True)\n",
        "    !pkill qbittorrent-nox\n",
        "    \n",
        "!qbittorrent-nox -d --webui-port=4444\n",
        "print(\"qBittorrent started \")\n",
        "clear_output(wait=True)\n",
        "\n",
        "if os.path.isfile(\"/usr/local/bin/ngrok\") == False:\n",
        "  !wget -q -c -nc https://bin.equinox.io/c/4VmDzA7iaHb/ngrok-stable-linux-amd64.zip\n",
        "  !unzip -qq -n ngrok-stable-linux-amd64.zip\n",
        "  !mv ngrok /usr/local/bin/ngrok\n",
        "  !rm -f /content/ngrok-stable-linux-amd64.zip\n",
        "  print(\"ngrok successfully installed.\")\n",
        "  clear_output(wait=True)\n",
        "else:\n",
        "  print(\"ngrok already installed. Skipping... \")\n",
        "  clear_output(wait=True)\n",
        "  !pkill ngrok\n",
        "  \n",
        "if os.path.isfile(\"/usr/bin/rclone\") == False:\n",
        "    get_ipython().system_raw('curl https://rclone.org/install.sh | sudo bash &')\n",
        "    print(\"Rclone successfully installed\")\n",
        "    clear_output(wait=True)\n",
        "else:\n",
        "    print(\"Rclone already installed. Skipping...\")\n",
        "    clear_output(wait=True)\n",
        "\n",
        "get_ipython().system_raw('/usr/local/bin/ngrok authtoken $Ngrok_Token && /usr/local/bin/ngrok http 4444 &')\n",
        "print(\"Hold on...\")\n",
        "time.sleep(10)\n",
        "clear_output(wait=True)\n",
        "with urllib.request.urlopen('http://localhost:4040/api/tunnels') as response:\n",
        "  data = json.loads(response.read().decode())\n",
        "  host = data['tunnels'][0]['public_url'][8:]\n",
        "  print(f'Open this link in new tab http://{host}')"
      ],
      "execution_count": null,
      "outputs": []
    },
    {
      "cell_type": "code",
      "metadata": {
        "id": "nY9UbfpmzBw2",
        "colab": {
          "base_uri": "https://localhost:8080/",
          "height": 782
        },
        "outputId": "fe97a631-bd27-412d-8f18-873c769e168a"
      },
      "source": [
        "!apt-get install transmission-cli"
      ],
      "execution_count": null,
      "outputs": [
        {
          "output_type": "stream",
          "text": [
            "Reading package lists... Done\n",
            "Building dependency tree       \n",
            "Reading state information... Done\n",
            "The following additional packages will be installed:\n",
            "  libevent-2.1-6 libminiupnpc10 libnatpmp1 transmission-common\n",
            "Suggested packages:\n",
            "  minissdpd natpmpc transmission-daemon transmission-gtk\n",
            "The following NEW packages will be installed:\n",
            "  libevent-2.1-6 libminiupnpc10 libnatpmp1 transmission-cli\n",
            "  transmission-common\n",
            "0 upgraded, 5 newly installed, 0 to remove and 25 not upgraded.\n",
            "Need to get 808 kB of archives.\n",
            "After this operation, 3,975 kB of additional disk space will be used.\n",
            "Get:1 http://archive.ubuntu.com/ubuntu bionic/main amd64 libevent-2.1-6 amd64 2.1.8-stable-4build1 [133 kB]\n",
            "Get:2 http://archive.ubuntu.com/ubuntu bionic/main amd64 libminiupnpc10 amd64 1.9.20140610-4ubuntu2 [24.1 kB]\n",
            "Get:3 http://archive.ubuntu.com/ubuntu bionic/main amd64 libnatpmp1 amd64 20150609-2 [7,612 B]\n",
            "Get:4 http://archive.ubuntu.com/ubuntu bionic/main amd64 transmission-common all 2.92-3ubuntu2 [237 kB]\n",
            "Get:5 http://archive.ubuntu.com/ubuntu bionic/universe amd64 transmission-cli amd64 2.92-3ubuntu2 [406 kB]\n",
            "Fetched 808 kB in 3s (308 kB/s)\n",
            "Selecting previously unselected package libevent-2.1-6:amd64.\n",
            "(Reading database ... 145118 files and directories currently installed.)\n",
            "Preparing to unpack .../libevent-2.1-6_2.1.8-stable-4build1_amd64.deb ...\n",
            "Unpacking libevent-2.1-6:amd64 (2.1.8-stable-4build1) ...\n",
            "Selecting previously unselected package libminiupnpc10:amd64.\n",
            "Preparing to unpack .../libminiupnpc10_1.9.20140610-4ubuntu2_amd64.deb ...\n",
            "Unpacking libminiupnpc10:amd64 (1.9.20140610-4ubuntu2) ...\n",
            "Selecting previously unselected package libnatpmp1.\n",
            "Preparing to unpack .../libnatpmp1_20150609-2_amd64.deb ...\n",
            "Unpacking libnatpmp1 (20150609-2) ...\n",
            "Selecting previously unselected package transmission-common.\n",
            "Preparing to unpack .../transmission-common_2.92-3ubuntu2_all.deb ...\n",
            "Unpacking transmission-common (2.92-3ubuntu2) ...\n",
            "Selecting previously unselected package transmission-cli.\n",
            "Preparing to unpack .../transmission-cli_2.92-3ubuntu2_amd64.deb ...\n",
            "Unpacking transmission-cli (2.92-3ubuntu2) ...\n",
            "Setting up libevent-2.1-6:amd64 (2.1.8-stable-4build1) ...\n",
            "Setting up libminiupnpc10:amd64 (1.9.20140610-4ubuntu2) ...\n",
            "Setting up libnatpmp1 (20150609-2) ...\n",
            "Setting up transmission-common (2.92-3ubuntu2) ...\n",
            "Setting up transmission-cli (2.92-3ubuntu2) ...\n",
            "Processing triggers for hicolor-icon-theme (0.17-2) ...\n",
            "Processing triggers for libc-bin (2.27-3ubuntu1) ...\n",
            "/sbin/ldconfig.real: /usr/local/lib/python3.6/dist-packages/ideep4py/lib/libmkldnn.so.0 is not a symbolic link\n",
            "\n",
            "Processing triggers for man-db (2.8.3-2ubuntu0.1) ...\n"
          ],
          "name": "stdout"
        }
      ]
    },
    {
      "cell_type": "code",
      "metadata": {
        "id": "hBxhHsjMzJof",
        "colab": {
          "base_uri": "https://localhost:8080/",
          "height": 1000
        },
        "outputId": "d6441fe8-2dde-40cf-fa7a-593ad554ef16"
      },
      "source": [
        "!transmission-cli -w \"/content/drive/My Drive\" https://freecoursesite.com/wp-content/uploads/2019/01/FreeCourseSite.com-Udemy%20-%20Artificial%20Intelligence%20Reinforcement%20Learning%20in%20Python.torrent"
      ],
      "execution_count": null,
      "outputs": [
        {
          "output_type": "stream",
          "text": [
            "transmission-cli 2.92 (14714)\n",
            "[2020-03-06 09:08:51.644] Transmission 2.92 (14714) started\n",
            "[2020-03-06 09:08:51.645] RPC Server: Adding address to whitelist: 127.0.0.1\n",
            "[2020-03-06 09:08:51.645] UDP: Failed to set receive buffer: requested 4194304, got 425984\n",
            "[2020-03-06 09:08:51.645] UDP: Please add the line \"net.core.rmem_max = 4194304\" to /etc/sysctl.conf\n",
            "[2020-03-06 09:08:51.645] UDP: Failed to set send buffer: requested 1048576, got 425984\n",
            "[2020-03-06 09:08:51.645] UDP: Please add the line \"net.core.wmem_max = 1048576\" to /etc/sysctl.conf\n",
            "[2020-03-06 09:08:51.645] DHT: Reusing old id\n",
            "[2020-03-06 09:08:51.645] DHT: Bootstrapping from 97 IPv4 nodes\n",
            "[2020-03-06 09:08:51.979] Port Forwarding (NAT-PMP): initnatpmp succeeded (0)\n",
            "[2020-03-06 09:08:51.979] Port Forwarding (NAT-PMP): sendpublicaddressrequest succeeded (2)\n",
            "[2020-03-06 09:08:59.988] Port Forwarding: State changed from \"Not forwarded\" to \"Starting\"\n",
            "[2020-03-06 09:09:00.716] Saved \"/root/.config/transmission/torrents/[FreeCourseSite.com] Udemy - Artificial Intelligence Reinforcement Learning in Python.2c2ece5a17620525.torrent\"\n",
            "[2020-03-06 09:09:00.716] [FreeCourseSite.com] Udemy - Artificial Intelligence Reinforcement Learning in Python: Queued for verification\n",
            "[2020-03-06 09:09:00.727] [FreeCourseSite.com] Udemy - Artificial Intelligence Reinforcement Learning in Python: Verifying torrent\n",
            "[2020-03-06 09:09:01.013] [FreeCourseSite.com] Udemy - Artificial Intelligence Reinforcement Learning in Python: Could not connect to tracker\n",
            "[2020-03-06 09:09:01.013] [FreeCourseSite.com] Udemy - Artificial Intelligence Reinforcement Learning in Python: Retrying announce in 20 seconds.\n",
            "[2020-03-06 09:09:01.020] [FreeCourseSite.com] Udemy - Artificial Intelligence Reinforcement Learning in Python: Could not connect to tracker\n",
            "[2020-03-06 09:09:01.020] [FreeCourseSite.com] Udemy - Artificial Intelligence Reinforcement Learning in Python: Retrying announce in 20 seconds.\n",
            "[2020-03-06 09:09:01.096] [FreeCourseSite.com] Udemy - Artificial Intelligence Reinforcement Learning in Python: Could not connect to tracker\n",
            "[2020-03-06 09:09:01.096] [FreeCourseSite.com] Udemy - Artificial Intelligence Reinforcement Learning in Python: Retrying announce in 20 seconds.\n",
            "[2020-03-06 09:09:01.150] [FreeCourseSite.com] Udemy - Artificial Intelligence Reinforcement Learning in Python: Could not connect to tracker\n",
            "[2020-03-06 09:09:01.150] [FreeCourseSite.com] Udemy - Artificial Intelligence Reinforcement Learning in Python: Retrying announce in 20 seconds.\n",
            "[2020-03-06 09:09:01.216] [FreeCourseSite.com] Udemy - Artificial Intelligence Reinforcement Learning in Python: Could not connect to tracker\n",
            "[2020-03-06 09:09:01.217] [FreeCourseSite.com] Udemy - Artificial Intelligence Reinforcement Learning in Python: Retrying announce in 20 seconds.\n",
            "[2020-03-06 09:09:01.255] [FreeCourseSite.com] Udemy - Artificial Intelligence Reinforcement Learning in Python: Could not connect to tracker\n",
            "[2020-03-06 09:09:01.255] [FreeCourseSite.com] Udemy - Artificial Intelligence Reinforcement Learning in Python: Retrying announce in 20 seconds.\n",
            "[2020-03-06 09:09:01.271] [FreeCourseSite.com] Udemy - Artificial Intelligence Reinforcement Learning in Python: Could not connect to tracker\n",
            "[2020-03-06 09:09:01.271] [FreeCourseSite.com] Udemy - Artificial Intelligence Reinforcement Learning in Python: Retrying announce in 20 seconds.\n",
            "[2020-03-06 09:09:01.284] [FreeCourseSite.com] Udemy - Artificial Intelligence Reinforcement Learning in Python: Could not connect to tracker\n",
            "[2020-03-06 09:09:01.284] [FreeCourseSite.com] Udemy - Artificial Intelligence Reinforcement Learning in Python: Retrying announce in 20 seconds.\n",
            "[2020-03-06 09:09:01.338] [FreeCourseSite.com] Udemy - Artificial Intelligence Reinforcement Learning in Python: Could not connect to tracker\n",
            "[2020-03-06 09:09:01.338] [FreeCourseSite.com] Udemy - Artificial Intelligence Reinforcement Learning in Python: Retrying announce in 20 seconds.\n",
            "[2020-03-06 09:09:01.545] [FreeCourseSite.com] Udemy - Artificial Intelligence Reinforcement Learning in Python: Tracker gave HTTP response code 307 (Temporary Redirect)\n",
            "[2020-03-06 09:09:01.545] [FreeCourseSite.com] Udemy - Artificial Intelligence Reinforcement Learning in Python: Retrying announce in 20 seconds.\n",
            "[2020-03-06 09:09:02.120] [FreeCourseSite.com] Udemy - Artificial Intelligence Reinforcement Learning in Python: Could not connect to tracker\n",
            "[2020-03-06 09:09:02.120] [FreeCourseSite.com] Udemy - Artificial Intelligence Reinforcement Learning in Python: Retrying announce in 20 seconds.\n",
            "[2020-03-06 09:09:02.989] Changed open file limit from 1048576 to 1024\n",
            "Progress: [2020-03-06 09:09:21.353] [FreeCourseSite.com] Udemy - Artificial Intelligence Reinforcement Learning in Python: Scrape error: Could not connect to tracker\n",
            "[2020-03-06 09:09:21.353] [FreeCourseSite.com] Udemy - Artificial Intelligence Reinforcement Learning in Python: Retrying scrape in 357 seconds.\n",
            "[2020-03-06 09:09:22.025] [FreeCourseSite.com] Udemy - Artificial Intelligence Reinforcement Learning in Python: Could not connect to tracker\n",
            "[2020-03-06 09:09:22.025] [FreeCourseSite.com] Udemy - Artificial Intelligence Reinforcement Learning in Python: Retrying announce in 343 seconds.\n",
            "[2020-03-06 09:09:22.041] [FreeCourseSite.com] Udemy - Artificial Intelligence Reinforcement Learning in Python: Could not connect to tracker\n",
            "[2020-03-06 09:09:22.041] [FreeCourseSite.com] Udemy - Artificial Intelligence Reinforcement Learning in Python: Retrying announce in 324 seconds.\n",
            "[2020-03-06 09:09:22.173] [FreeCourseSite.com] Udemy - Artificial Intelligence Reinforcement Learning in Python: Scrape error: Could not connect to tracker\n",
            "[2020-03-06 09:09:22.173] [FreeCourseSite.com] Udemy - Artificial Intelligence Reinforcement Learning in Python: Retrying scrape in 311 seconds.\n",
            "[2020-03-06 09:09:22.173] [FreeCourseSite.com] Udemy - Artificial Intelligence Reinforcement Learning in Python: Could not connect to tracker\n",
            "[2020-03-06 09:09:22.173] [FreeCourseSite.com] Udemy - Artificial Intelligence Reinforcement Learning in Python: Retrying announce in 336 seconds.\n",
            "[2020-03-06 09:09:22.192] [FreeCourseSite.com] Udemy - Artificial Intelligence Reinforcement Learning in Python: Could not connect to tracker\n",
            "[2020-03-06 09:09:22.192] [FreeCourseSite.com] Udemy - Artificial Intelligence Reinforcement Learning in Python: Retrying announce in 347 seconds.\n",
            "[2020-03-06 09:09:22.238] [FreeCourseSite.com] Udemy - Artificial Intelligence Reinforcement Learning in Python: Could not connect to tracker\n",
            "[2020-03-06 09:09:22.238] [FreeCourseSite.com] Udemy - Artificial Intelligence Reinforcement Learning in Python: Retrying announce in 334 seconds.\n",
            "[2020-03-06 09:09:22.255] [FreeCourseSite.com] Udemy - Artificial Intelligence Reinforcement Learning in Python: Could not connect to tracker\n",
            "[2020-03-06 09:09:22.255] [FreeCourseSite.com] Udemy - Artificial Intelligence Reinforcement Learning in Python: Retrying announce in 342 seconds.\n",
            "[2020-03-06 09:09:22.339] [FreeCourseSite.com] Udemy - Artificial Intelligence Reinforcement Learning in Python: Could not connect to tracker\n",
            "[2020-03-06 09:09:22.339] [FreeCourseSite.com] Udemy - Artificial Intelligence Reinforcement Learning in Python: Retrying announce in 916 seconds.\n",
            "[2020-03-06 09:09:22.368] [FreeCourseSite.com] Udemy - Artificial Intelligence Reinforcement Learning in Python: Could not connect to tracker\n",
            "[2020-03-06 09:09:22.368] [FreeCourseSite.com] Udemy - Artificial Intelligence Reinforcement Learning in Python: Retrying announce in 316 seconds.\n",
            "[2020-03-06 09:09:22.398] [FreeCourseSite.com] Udemy - Artificial Intelligence Reinforcement Learning in Python: Could not connect to tracker\n",
            "[2020-03-06 09:09:22.398] [FreeCourseSite.com] Udemy - Artificial Intelligence Reinforcement Learning in Python: Retrying announce in 309 seconds.\n",
            "[2020-03-06 09:09:22.552] [FreeCourseSite.com] Udemy - Artificial Intelligence Reinforcement Learning in Python: Scrape error: torrent does not exist\n",
            "[2020-03-06 09:09:22.552] [FreeCourseSite.com] Udemy - Artificial Intelligence Reinforcement Learning in Python: Retrying scrape in 313 seconds.\n",
            "Progress: 0.2%, dl from 1 of 1 peers (304 kB/s), ul to 0 (0 kB[2020-03-06 09:09:24.118] [FreeCourseSite.com] Udemy - Artificial Intelligence Reinforcement Learning in Python: Could not connect to tracker\n",
            "[2020-03-06 09:09:24.118] [FreeCourseSite.com] Udemy - Artificial Intelligence Reinforcement Learning in Python: Retrying announce in 908 seconds.\n",
            "Progress: 0.6%, dl from 1 of 1 peers (285 kB/s), u[2020-03-06 09:09:40.213] [FreeCourseSite.com] Udemy - Artificial Intelligence Reinforcement Learning in Python: Scrape error: Could not connect to tracker\n",
            "[2020-03-06 09:09:40.213] [FreeCourseSite.com] Udemy - Artificial Intelligence Reinforcement Learning in Python: Retrying scrape in 902 seconds.\n",
            "[2020-03-06 09:09:40.364] [FreeCourseSite.com] Udemy - Artificial Intelligence Reinforcement Learning in Python: Scrape error: Could not connect to tracker\n",
            "[2020-03-06 09:09:40.364] [FreeCourseSite.com] Udemy - Artificial Intelligence Reinforcement Learning in Python: Retrying scrape in 932 seconds.\n",
            "Pro[2020-03-06 09:10:05.020] [FreeCourseSite.com] Udemy - Artificial Intelligence Reinforcement Learning in Python: Connection failed\n",
            "[2020-03-06 09:10:05.020] [FreeCourseSite.com] Udemy - Artificial Intelligence Reinforcement Learning in Python: Retrying announce in 20 seconds.\n",
            "[2020-03-06 09:10:05.020] [FreeCourseSite.com] Udemy - Artificial Intelligence Reinforcement Learning in Python: Connection failed\n",
            "[2020-03-06 09:10:05.020] [FreeCourseSite.com] Udemy - Artificial Intelligence Reinforcement Learning in Python: Retrying announce in 20 seconds.\n",
            "[2020-03-06 09:10:05.020] [FreeCourseSite.com] Udemy - Artificial Intelligence Reinforcement Learning in Python: Scrape error: Connection failed\n",
            "[2020-03-06 09:10:05.020] [FreeCourseSite.com] Udemy - Artificial Intelligence Reinforcement Learning in Python: Retrying scrape in 20 seconds.\n",
            "[2020-03-06 09:10:05.020] [FreeCourseSite.com] Udemy - Artificial Intelligence Reinforcement Learning in Python: Connection failed\n",
            "[2020-03-06 09:10:05.020] [FreeCourseSite.com] Udemy - Artificial Intelligence Reinforcement Learning in Python: Retrying announce in 309 seconds.\n",
            "[2020-03-06 09:10:05.020] [FreeCourseSite.com] Udemy - Artificial Intelligence Reinforcement Learning in Python: Scrape error: Connection failed\n",
            "[2020-03-06 09:10:05.020] [FreeCourseSite.com] Udemy - Artificial Intelligence Reinforcement Learning in Python: Retrying scrape in 20 seconds.\n",
            "[2020-03-06 09:10:05.020] [FreeCourseSite.com] Udemy - Artificial Intelligence Reinforcement Learning in Python: Connection failed\n",
            "[2020-03-06 09:10:05.020] [FreeCourseSite.com] Udemy - Artificial Intelligence Reinforcement Learning in Python: Retrying announce in 350 seconds.\n",
            "Progress: 1.5%, dl from 1 of 1 peers (292 kB/s), ul to 0 (0 kB/s) [0.00][2020-03-06 09:10:20.229] [FreeCourseSite.com] Udemy - Artificial Intelligence Reinforcement Learning in Python: Scrape error: Could not connect to tracker\n",
            "[2020-03-06 09:10:20.229] [FreeCourseSite.com] Udemy - Artificial Intelligence Reinforcement Learning in Python: Retrying scrape in 926 seconds.\n",
            "Progress: 1.8%, dl from 1 of 1 peers [2020-03-06 09:10:30.135] [FreeCourseSite.com] Udemy - Artificial Intelligence Reinforcement Learning in Python: Scrape error: Could not connect to tracker\n",
            "[2020-03-06 09:10:30.135] [FreeCourseSite.com] Udemy - Artificial Intelligence Reinforcement Learning in Python: Retrying scrape in 929 seconds.\n",
            "Progress: 2.3[2020-03-06 09:10:59.834] Port Forwarding: State changed from \"Starting\" to \"???\"\n",
            "[2020-03-06 09:11:00.680] [FreeCourseSite.com] Udemy - Artificial Intelligence Reinforcement Learning in Python: Scrape error: Could not connect to tracker\n",
            "[2020-03-06 09:11:00.680] [FreeCourseSite.com] Udemy - Artificial Intelligence Reinforcement Learning in Python: Retrying scrape in 954 seconds.\n",
            "Progress: 3.0%, dl from 1 of 1 peers (200 kB/s), ul to 0 (0 kB/s) [0.0[2020-03-06 09:11:30.816] [FreeCourseSite.com] Udemy - Artificial Intelligence Reinforcement Learning in Python: Scrape error: Connection failed\n",
            "[2020-03-06 09:11:30.816] [FreeCourseSite.com] Udemy - Artificial Intelligence Reinforcement Learning in Python: Retrying scrape in 314 seconds.\n",
            "[2020-03-06 09:11:30.816] [FreeCourseSite.com] Udemy - Artificial Intelligence Reinforcement Learning in Python: Connection failed\n",
            "[2020-03-06 09:11:30.816] [FreeCourseSite.com] Udemy - Artificial Intelligence Reinforcement Learning in Python: Retrying announce in 958 seconds.\n",
            "[2020-03-06 09:11:30.816] [FreeCourseSite.com] Udemy - Artificial Intelligence Reinforcement Learning in Python: Connection failed\n",
            "[2020-03-06 09:11:30.816] [FreeCourseSite.com] Udemy - Artificial Intelligence Reinforcement Learning in Python: Retrying announce in 300 seconds.\n",
            "Progress: 3.[2020-03-06 09:11:36.818] [FreeCourseSite.com] Udemy - Artificial Intelligence Reinforcement Learning in Python: Scrape error: Connection failed\n",
            "[2020-03-06 09:11:36.818] [FreeCourseSite.com] Udemy - Artificial Intelligence Reinforcement Learning in Python: Retrying scrape in 948 seconds.\n",
            "[2020-03-06 09:11:36.818] [FreeCourseSite.com] Udemy - Artificial Intelligence Reinforcement Learning in Python: Scrape error: Connection failed\n",
            "[2020-03-06 09:11:36.818] [FreeCourseSite.com] Udemy - Artificial Intelligence Reinforcement Learning in Python: Retrying scrape in 934 seconds.\n",
            "Progress: 3.2%, dl from 1 of 1 peers (265 kB/s), ul to 0 (0 kB/s[2020-03-06 09:11:38.000] [FreeCourseSite.com] Udemy - Artificial Intelligence Reinforcement Learning in Python: Starting IPv4 DHT announce (poor, 14 nodes)\n",
            "Progress: 3.2%, dl from 1 of 1 peer[2020-03-06 09:11:41.678] [FreeCourseSite.com] Udemy - Artificial Intelligence Reinforcement Learning in Python: Scrape error: Could not connect to tracker\n",
            "[2020-03-06 09:11:41.678] [FreeCourseSite.com] Udemy - Artificial Intelligence Reinforcement Learning in Python: Retrying scrape in 944 seconds.\n",
            "[2020-03-06 09:11:50.590] [FreeCourseSite.com] Udemy - Artificial Intelligence Reinforcement Learning in Python: Scrape error: Could not connect to tracker\n",
            "[2020-03-06 09:11:50.590] [FreeCourseSite.com] Udemy - Artificial Intelligence Reinforcement Learning in Python: Retrying scrape in 947 seconds.\n",
            "Progress: 3.6%, dl from 1 of 1 peers (342 kB/s), ul to 0 (0 kB/s) [0.00]   [2020-03-06 09:12:00.478] [FreeCourseSite.com] Udemy - Artificial Intelligence Reinforcement Learning in Python: Scrape error: Could not connect to tracker\n",
            "[2020-03-06 09:12:00.478] [FreeCourseSite.com] Udemy - Artificial Intelligence Reinforcement Learning in Python: Retrying scrape in 916 seconds.\n",
            "Prog[2020-03-06 09:12:54.537] [FreeCourseSite.com] Udemy - Artificial Intelligence Reinforcement Learning in Python: Scrape error: Connection failed\n",
            "[2020-03-06 09:12:54.537] [FreeCourseSite.com] Udemy - Artificial Intelligence Reinforcement Learning in Python: Retrying scrape in 927 seconds.\n",
            "Progress: 6.4%, dl from 1 of 1 peers[2020-03-06 09:14:31.802] [FreeCourseSite.com] Udemy - Artificial Intelligence Reinforcement Learning in Python: Could not connect to tracker\n",
            "[2020-03-06 09:14:31.802] [FreeCourseSite.com] Udemy - Artificial Intelligence Reinforcement Learning in Python: Retrying announce in 1830 seconds.\n",
            "Progress: 6.4%, dl from 1 of 1[2020-03-06 09:14:38.455] [FreeCourseSite.com] Udemy - Artificial Intelligence Reinforcement Learning in Python: Could not connect to tracker\n",
            "[2020-03-06 09:14:38.455] [FreeCourseSite.com] Udemy - Artificial Intelligence Reinforcement Learning in Python: Retrying announce in 1819 seconds.\n",
            "P[2020-03-06 09:14:41.196] [FreeCourseSite.com] Udemy - Artificial Intelligence Reinforcement Learning in Python: Scrape error: Could not connect to tracker\n",
            "[2020-03-06 09:14:41.196] [FreeCourseSite.com] Udemy - Artificial Intelligence Reinforcement Learning in Python: Retrying scrape in 1833 seconds.\n",
            "Progress: 6.5%, dl from [2020-03-06 09:14:46.881] [FreeCourseSite.com] Udemy - Artificial Intelligence Reinforcement Learning in Python: Could not connect to tracker\n",
            "[2020-03-06 09:14:46.881] [FreeCourseSite.com] Udemy - Artificial Intelligence Reinforcement Learning in Python: Retrying announce in 1822 seconds.\n",
            "Progress: 6.6%, dl[2020-03-06 09:14:54.654] Saved \"/root/.config/transmission/resume/[FreeCourseSite.com] Udemy - Artificial Intelligence Reinforcement Learning in Python.2c2ece5a17620525.resume\"\n",
            "[2020-03-06 09:14:54.654] Saved \"/root/.config/transmission/stats.json\"\n",
            "Progress: 6.6%, dl from 1 of 1 peers (41 kB/s), ul to 0 (0 kB/s) [0.00[2020-03-06 09:14:57.447] [FreeCourseSite.com] Udemy - Artificial Intelligence Reinforcement Learning in Python: Could not connect to tracker\n",
            "[2020-03-06 09:14:57.447] [FreeCourseSite.com] Udemy - Artificial Intelligence Reinforcement Learning in Python: Retrying announce in 1839 seconds.\n",
            "Progress: 6.6%, dl from 1 of 1 peers (28 [2020-03-06 09:14:58.451] [FreeCourseSite.com] Udemy - Artificial Intelligence Reinforcement Learning in Python: Could not connect to tracker\n",
            "[2020-03-06 09:14:58.452] [FreeCourseSite.com] Udemy - Artificial Intelligence Reinforcement Learning in Python: Retrying announce in 1825 seconds.\n",
            "Progress: 6.7%, dl from 1 of 1 peers (210 kB/s), ul to 0 (0 kB/s[2020-03-06 09:15:04.918] [FreeCourseSite.com] Udemy - Artificial Intelligence Reinforcement Learning in Python: Could not connect to tracker\n",
            "[2020-03-06 09:15:04.918] [FreeCourseSite.com] Udemy - Artificial Intelligence Reinforcement Learning in Python: Retrying announce in 1817 seconds.\n",
            "Progress: 6.7%, dl from 1 of 1 peer[2020-03-06 09:15:05.688] [FreeCourseSite.com] Udemy - Artificial Intelligence Reinforcement Learning in Python: Could not connect to tracker\n",
            "[2020-03-06 09:15:05.688] [FreeCourseSite.com] Udemy - Artificial Intelligence Reinforcement Learning in Python: Retrying announce in 1843 seconds.\n",
            "Progress: 6.8%, dl from 1 of 1 peers (47 kB/s), ul to 0 (0[2020-03-06 09:15:11.062] [FreeCourseSite.com] Udemy - Artificial Intelligence Reinforcement Learning in Python: Could not connect to tracker\n",
            "[2020-03-06 09:15:11.062] [FreeCourseSite.com] Udemy - Artificial Intelligence Reinforcement Learning in Python: Retrying announce in 1816 seconds.\n",
            "Progress: 7.0%, dl from[2020-03-06 09:15:21.309] [FreeCourseSite.com] Udemy - Artificial Intelligence Reinforcement Learning in Python: Scrape error: Could not connect to tracker\n",
            "[2020-03-06 09:15:21.309] [FreeCourseSite.com] Udemy - Artificial Intelligence Reinforcement Learning in Python: Retrying scrape in 1827 seconds.\n",
            "Progress: 7.1%, dl from 1 of 1 peers (223 kB/s), ul to 0 (0 kB/s) [0.[2020-03-06 09:15:32.282] [FreeCourseSite.com] Udemy - Artificial Intelligence Reinforcement Learning in Python: IPv4 DHT announce done\n",
            "Progress: 8.2%, dl from 1 of 1 pe[2020-03-06 09:16:17.168] [FreeCourseSite.com] Udemy - Artificial Intelligence Reinforcement Learning in Python: Connection failed\n",
            "[2020-03-06 09:16:17.168] [FreeCourseSite.com] Udemy - Artificial Intelligence Reinforcement Learning in Python: Retrying announce in 1818 seconds.\n",
            "Progress: 9.0%, dl from 1 of 1 peers (306 kB/s), ul to [2020-03-06 09:16:57.188] [FreeCourseSite.com] Udemy - Artificial Intelligence Reinforcement Learning in Python: Connection failed\n",
            "[2020-03-06 09:16:57.188] [FreeCourseSite.com] Udemy - Artificial Intelligence Reinforcement Learning in Python: Retrying announce in 1825 seconds.\n",
            "Progress: 9.8%, dl from 1 of 1 peers (291 kB/s), ul to[2020-03-06 09:17:32.342] [FreeCourseSite.com] Udemy - Artificial Intelligence Reinforcement Learning in Python: Connection failed\n",
            "[2020-03-06 09:17:32.342] [FreeCourseSite.com] Udemy - Artificial Intelligence Reinforcement Learning in Python: Retrying announce in 1824 seconds.\n",
            "Progress: 10.4%, dl from 1 of 1 peer[2020-03-06 09:17:55.848] [FreeCourseSite.com] Udemy - Artificial Intelligence Reinforcement Learning in Python: Scrape error: Connection failed\n",
            "[2020-03-06 09:17:55.848] [FreeCourseSite.com] Udemy - Artificial Intelligence Reinforcement Learning in Python: Retrying scrape in 1841 seconds.\n",
            "Progress: 14.3%, dl from 1 of 1 peers (302 kB/s), ul to 0 (0[2020-03-06 09:20:51.694] Saved \"/root/.config/transmission/resume/[FreeCourseSite.com] Udemy - Artificial Intelligence Reinforcement Learning in Python.2c2ece5a17620525.resume\"\n",
            "[2020-03-06 09:20:51.695] Saved \"/root/.config/transmission/stats.json\"\n",
            "Progress: 18.7%, dl[2020-03-06 09:24:33.342] [FreeCourseSite.com] Udemy - Artificial Intelligence Reinforcement Learning in Python: Could not connect to tracker\n",
            "[2020-03-06 09:24:33.342] [FreeCourseSite.com] Udemy - Artificial Intelligence Reinforcement Learning in Python: Retrying announce in 3637 seconds.\n",
            "Progress: 18.8%, dl from 1 of 1 peers (172[2020-03-06 09:24:38.515] [FreeCourseSite.com] Udemy - Artificial Intelligence Reinforcement Learning in Python: Could not connect to tracker\n",
            "[2020-03-06 09:24:38.515] [FreeCourseSite.com] Udemy - Artificial Intelligence Reinforcement Learning in Python: Retrying announce in 3659 seconds.\n",
            "Progress: 19.0%, dl from 1 of 1 peers (125 kB/s), ul to 0 ([2020-03-06 09:24:51.526] [FreeCourseSite.com] Udemy - Artificial Intelligence Reinforcement Learning in Python: Scrape error: Could not connect to tracker\n",
            "[2020-03-06 09:24:51.526] [FreeCourseSite.com] Udemy - Artificial Intelligence Reinforcement Learning in Python: Retrying scrape in 3629 seconds.\n",
            "Progress: 19.3%, dl from 1 of 1 pee[2020-03-06 09:25:21.613] [FreeCourseSite.com] Udemy - Artificial Intelligence Reinforcement Learning in Python: Scrape error: Could not connect to tracker\n",
            "[2020-03-06 09:25:21.614] [FreeCourseSite.com] Udemy - Artificial Intelligence Reinforcement Learning in Python: Retrying scrape in 3652 seconds.\n",
            "Progress: 1[2020-03-06 09:25:51.864] [FreeCourseSite.com] Udemy - Artificial Intelligence Reinforcement Learning in Python: Scrape error: Could not connect to tracker\n",
            "[2020-03-06 09:25:51.864] [FreeCourseSite.com] Udemy - Artificial Intelligence Reinforcement Learning in Python: Retrying scrape in 3612 seconds.\n",
            "Progress: 20.1%, dl from 1 of 1 peers (311 kB/s), ul to 0[2020-03-06 09:26:00.976] [FreeCourseSite.com] Udemy - Artificial Intelligence Reinforcement Learning in Python: Scrape error: Could not connect to tracker\n",
            "[2020-03-06 09:26:00.976] [FreeCourseSite.com] Udemy - Artificial Intelligence Reinforcement Learning in Python: Retrying scrape in 3643 seconds.\n",
            "Progress: 21.3%, dl from 1 of 1 peers (280 k[2020-03-06 09:26:51.694] Saved \"/root/.config/transmission/resume/[FreeCourseSite.com] Udemy - Artificial Intelligence Reinforcement Learning in Python.2c2ece5a17620525.resume\"\n",
            "[2020-03-06 09:26:51.694] Saved \"/root/.config/transmission/stats.json\"\n",
            "Progress:[2020-03-06 09:27:02.804] [FreeCourseSite.com] Udemy - Artificial Intelligence Reinforcement Learning in Python: Scrape error: Could not connect to tracker\n",
            "[2020-03-06 09:27:02.804] [FreeCourseSite.com] Udemy - Artificial Intelligence Reinforcement Learning in Python: Retrying scrape in 3641 seconds.\n",
            "Progress: 21.7%, dl from 1 of 1 peers (293 kB/s),[2020-03-06 09:27:20.289] [FreeCourseSite.com] Udemy - Artificial Intelligence Reinforcement Learning in Python: Scrape error: Could not connect to tracker\n",
            "[2020-03-06 09:27:20.289] [FreeCourseSite.com] Udemy - Artificial Intelligence Reinforcement Learning in Python: Retrying scrape in 3606 seconds.\n",
            "Progress: 22.0[2020-03-06 09:27:30.622] [FreeCourseSite.com] Udemy - Artificial Intelligence Reinforcement Learning in Python: Scrape error: Could not connect to tracker\n",
            "[2020-03-06 09:27:30.622] [FreeCourseSite.com] Udemy - Artificial Intelligence Reinforcement Learning in Python: Retrying scrape in 3616 seconds.\n",
            "Progress: 22.2%, dl from 1 of 1 peers (285 kB/s), ul to 0 (0[2020-03-06 09:27:41.550] [FreeCourseSite.com] Udemy - Artificial Intelligence Reinforcement Learning in Python: Scrape error: Could not connect to tracker\n",
            "[2020-03-06 09:27:41.551] [FreeCourseSite.com] Udemy - Artificial Intelligence Reinforcement Learning in Python: Retrying scrape in 3603 seconds.\n",
            "Progres[2020-03-06 09:28:13.297] [FreeCourseSite.com] Udemy - Artificial Intelligence Reinforcement Learning in Python: Scrape error: Connection failed\n",
            "[2020-03-06 09:28:13.297] [FreeCourseSite.com] Udemy - Artificial Intelligence Reinforcement Learning in Python: Retrying scrape in 3602 seconds.\n",
            "Progress: 23.4%, d[2020-03-06 09:28:33.310] [FreeCourseSite.com] Udemy - Artificial Intelligence Reinforcement Learning in Python: Connection failed\n",
            "[2020-03-06 09:28:33.310] [FreeCourseSite.com] Udemy - Artificial Intelligence Reinforcement Learning in Python: Retrying announce in 3649 seconds.\n",
            "[2020-03-06 09:28:33.310] [FreeCourseSite.com] Udemy - Artificial Intelligence Reinforcement Learning in Python: Scrape error: Connection failed\n",
            "[2020-03-06 09:28:33.310] [FreeCourseSite.com] Udemy - Artificial Intelligence Reinforcement Learning in Python: Retrying scrape in 3639 seconds.\n",
            "Progress: 24.6%, dl from 1 of 1 peers (315 kB/s), ul to 0 (0 kB/s) [0.00]       [2020-03-06 09:29:31.342] [FreeCourseSite.com] Udemy - Artificial Intelligence Reinforcement Learning in Python: Scrape error: Connection failed\n",
            "[2020-03-06 09:29:31.342] [FreeCourseSite.com] Udemy - Artificial Intelligence Reinforcement Learning in Python: Retrying scrape in 3619 seconds.\n",
            "Progress: 29.0%, dl from 1 of 1 peers (231 kB/s), ul to 0[2020-03-06 09:32:51.673] Saved \"/root/.config/transmission/resume/[FreeCourseSite.com] Udemy - Artificial Intelligence Reinforcement Learning in Python.2c2ece5a17620525.resume\"\n",
            "[2020-03-06 09:32:51.673] Saved \"/root/.config/transmission/stats.json\"\n",
            "Progress: 36.5%, dl from 1 of 1 peers (268 kB/s), ul to 0 (0 kB/s) [0.[2020-03-06 09:38:50.000] [FreeCourseSite.com] Udemy - Artificial Intelligence Reinforcement Learning in Python: Starting IPv4 DHT announce (firewalled, 145 nodes)\n",
            "[2020-03-06 09:38:51.678] Saved \"/root/.config/transmission/resume/[FreeCourseSite.com] Udemy - Artificial Intelligence Reinforcement Learning in Python.2c2ece5a17620525.resume\"\n",
            "[2020-03-06 09:38:51.678] Saved \"/root/.config/transmission/stats.json\"\n",
            "Progress: 37.3%, [2020-03-06 09:39:25.261] [FreeCourseSite.com] Udemy - Artificial Intelligence Reinforcement Learning in Python: Tracker gave HTTP response code 307 (Temporary Redirect)\n",
            "[2020-03-06 09:39:25.261] [FreeCourseSite.com] Udemy - Artificial Intelligence Reinforcement Learning in Python: Retrying announce in 20 seconds.\n",
            "Progress: 3[2020-03-06 09:39:32.441] [FreeCourseSite.com] Udemy - Artificial Intelligence Reinforcement Learning in Python: Scrape error: torrent does not exist\n",
            "[2020-03-06 09:39:32.441] [FreeCourseSite.com] Udemy - Artificial Intelligence Reinforcement Learning in Python: Retrying scrape in 313 seconds.\n",
            "Progress: 41.8%, dl from 1 of 1 peers (3[2020-03-06 09:42:55.410] [FreeCourseSite.com] Udemy - Artificial Intelligence Reinforcement Learning in Python: IPv4 DHT announce done\n",
            "Pr[2020-03-06 09:44:51.678] Saved \"/root/.config/transmission/resume/[FreeCourseSite.com] Udemy - Artificial Intelligence Reinforcement Learning in Python.2c2ece5a17620525.resume\"\n",
            "[2020-03-06 09:44:51.678] Saved \"/root/.config/transmission/stats.json\"\n",
            "Progress: 44.6%, dl from 1 of 1 peers (276 kB/s), ul to 0 (0 kB/s) [0.00]    [2020-03-06 09:44:58.264] [FreeCourseSite.com] Udemy - Artificial Intelligence Reinforcement Learning in Python: Could not connect to tracker\n",
            "[2020-03-06 09:44:58.264] [FreeCourseSite.com] Udemy - Artificial Intelligence Reinforcement Learning in Python: Retrying announce in 7232 seconds.\n",
            "Progress: 44.7%, dl[2020-03-06 09:45:02.367] [FreeCourseSite.com] Udemy - Artificial Intelligence Reinforcement Learning in Python: Could not connect to tracker\n",
            "[2020-03-06 09:45:02.367] [FreeCourseSite.com] Udemy - Artificial Intelligence Reinforcement Learning in Python: Retrying announce in 7217 seconds.\n",
            "Progress: 44.7%, dl from 1 of 1 peers (99 [2020-03-06 09:45:08.922] [FreeCourseSite.com] Udemy - Artificial Intelligence Reinforcement Learning in Python: Could not connect to tracker\n",
            "[2020-03-06 09:45:08.922] [FreeCourseSite.com] Udemy - Artificial Intelligence Reinforcement Learning in Python: Retrying announce in 7256 seconds.\n",
            "Progress: 44.9%, dl from 1 of 1 peers (183 kB/s), ul to 0 ([2020-03-06 09:45:21.915] [FreeCourseSite.com] Udemy - Artificial Intelligence Reinforcement Learning in Python: Scrape error: Could not connect to tracker\n",
            "[2020-03-06 09:45:21.915] [FreeCourseSite.com] Udemy - Artificial Intelligence Reinforcement Learning in Python: Retrying scrape in 7209 seconds.\n",
            "[2020-03-06 09:45:22.122] [FreeCourseSite.com] Udemy - Artificial Intelligence Reinforcement Learning in Python: Could not connect to tracker\n",
            "[2020-03-06 09:45:22.122] [FreeCourseSite.com] Udemy - Artificial Intelligence Reinforcement Learning in Python: Retrying announce in 7236 seconds.\n",
            "Progress: 45.0%, dl from 1 of [2020-03-06 09:45:23.928] [FreeCourseSite.com] Udemy - Artificial Intelligence Reinforcement Learning in Python: Could not connect to tracker\n",
            "[2020-03-06 09:45:23.928] [FreeCourseSite.com] Udemy - Artificial Intelligence Reinforcement Learning in Python: Retrying announce in 7241 seconds.\n",
            "Progress: 45.1%, dl from 1 of 1 peers (252 kB/s), ul [2020-03-06 09:45:28.185] [FreeCourseSite.com] Udemy - Artificial Intelligence Reinforcement Learning in Python: Could not connect to tracker\n",
            "[2020-03-06 09:45:28.185] [FreeCourseSite.com] Udemy - Artificial Intelligence Reinforcement Learning in Python: Retrying announce in 7253 seconds.\n",
            "Progress: 45.2%, dl from 1 of 1 peers (234 kB/s[2020-03-06 09:45:36.977] [FreeCourseSite.com] Udemy - Artificial Intelligence Reinforcement Learning in Python: Could not connect to tracker\n",
            "[2020-03-06 09:45:36.977] [FreeCourseSite.com] Udemy - Artificial Intelligence Reinforcement Learning in Python: Retrying announce in 7245 seconds.\n",
            "Progress: 45.5%, dl from 1 of 1 peers (289 kB/s), ul to 0 (0 kB/[2020-03-06 09:45:48.914] [FreeCourseSite.com] Udemy - Artificial Intelligence Reinforcement Learning in Python: Could not connect to tracker\n",
            "[2020-03-06 09:45:48.914] [FreeCourseSite.com] Udemy - Artificial Intelligence Reinforcement Learning in Python: Retrying announce in 7228 seconds.\n",
            "Progress: 45.6%, dl from 1 of 1 pee[2020-03-06 09:45:51.216] [FreeCourseSite.com] Udemy - Artificial Intelligence Reinforcement Learning in Python: Scrape error: Could not connect to tracker\n",
            "[2020-03-06 09:45:51.216] [FreeCourseSite.com] Udemy - Artificial Intelligence Reinforcement Learning in Python: Retrying scrape in 7226 seconds.\n",
            "Progress: 48.1%, dl from 1 of 1 [2020-03-06 09:47:38.439] [FreeCourseSite.com] Udemy - Artificial Intelligence Reinforcement Learning in Python: Connection failed\n",
            "[2020-03-06 09:47:38.439] [FreeCourseSite.com] Udemy - Artificial Intelligence Reinforcement Learning in Python: Retrying announce in 7205 seconds.\n",
            "Progress: 49.1%, dl from 1 of 1 peers (302 kB/s), ul to 0 (0 kB/s) [0.00]    [2020-03-06 09:48:23.463] [FreeCourseSite.com] Udemy - Artificial Intelligence Reinforcement Learning in Python: Connection failed\n",
            "[2020-03-06 09:48:23.463] [FreeCourseSite.com] Udemy - Artificial Intelligence Reinforcement Learning in Python: Retrying announce in 7221 seconds.\n",
            "Progress: 50.0%, dl from 1 of 1 peers (318 kB/s), ul to 0 (0 kB/s) [0.00]   [2020-03-06 09:48:59.486] [FreeCourseSite.com] Udemy - Artificial Intelligence Reinforcement Learning in Python: Connection failed\n",
            "[2020-03-06 09:48:59.486] [FreeCourseSite.com] Udemy - Artificial Intelligence Reinforcement Learning in Python: Retrying announce in 7244 seconds.\n",
            "Progress: 50.7%, dl from 1 of 1 peers (1[2020-03-06 09:49:45.511] [FreeCourseSite.com] Udemy - Artificial Intelligence Reinforcement Learning in Python: Scrape error: Connection failed\n",
            "[2020-03-06 09:49:45.511] [FreeCourseSite.com] Udemy - Artificial Intelligence Reinforcement Learning in Python: Retrying scrape in 7224 seconds.\n",
            "Progress: 51.5%, dl from 1 of 1 peers (226 kB/s), ul to 0 (0 kB/s) [2020-03-06 09:50:51.677] Saved \"/root/.config/transmission/resume/[FreeCourseSite.com] Udemy - Artificial Intelligence Reinforcement Learning in Python.2c2ece5a17620525.resume\"\n",
            "[2020-03-06 09:50:51.678] Saved \"/root/.config/transmission/stats.json\"\n",
            "Progress: 60.1%, dl from 1 of 1 peers (330 kB/s), ul to 0 (0 kB/s) [0.00]       [2020-03-06 09:56:51.689] Saved \"/root/.config/transmission/resume/[FreeCourseSite.com] Udemy - Artificial Intelligence Reinforcement Learning in Python.2c2ece5a17620525.resume\"\n",
            "[2020-03-06 09:56:51.689] Saved \"/root/.config/transmission/stats.json\"\n",
            "Progress: 68[2020-03-06 10:02:51.678] Saved \"/root/.config/transmission/resume/[FreeCourseSite.com] Udemy - Artificial Intelligence Reinforcement Learning in Python.2c2ece5a17620525.resume\"\n",
            "[2020-03-06 10:02:51.679] Saved \"/root/.config/transmission/stats.json\"\n",
            "Progress: 71.9%, dl from 1 of 1 peers (229 kB/s), ul to 0 (0 kB/s) [0.00]   [2020-03-06 10:06:04.000] [FreeCourseSite.com] Udemy - Artificial Intelligence Reinforcement Learning in Python: Starting IPv4 DHT announce (firewalled, 176 nodes)\n",
            "Progress: 75.5%, dl from [2020-03-06 10:08:51.695] Saved \"/root/.config/transmission/resume/[FreeCourseSite.com] Udemy - Artificial Intelligence Reinforcement Learning in Python.2c2ece5a17620525.resume\"\n",
            "[2020-03-06 10:08:51.695] Saved \"/root/.config/transmission/stats.json\"\n",
            "Progress: 76.9%, dl from 1 of 1 pee[2020-03-06 10:09:47.187] [FreeCourseSite.com] Udemy - Artificial Intelligence Reinforcement Learning in Python: Tracker gave HTTP response code 307 (Temporary Redirect)\n",
            "[2020-03-06 10:09:47.187] [FreeCourseSite.com] Udemy - Artificial Intelligence Reinforcement Learning in Python: Retrying announce in 20 seconds.\n",
            "Progress: 77.8%, dl from 1 of 1 peers (296 kB/s), ul to 0[2020-03-06 10:10:26.952] [FreeCourseSite.com] Udemy - Artificial Intelligence Reinforcement Learning in Python: IPv4 DHT announce done\n",
            "Progress:[2020-03-06 10:14:51.697] Saved \"/root/.config/transmission/resume/[FreeCourseSite.com] Udemy - Artificial Intelligence Reinforcement Learning in Python.2c2ece5a17620525.resume\"\n",
            "[2020-03-06 10:14:51.697] Saved \"/root/.config/transmission/stats.json\"\n",
            "Progress: 85.5%, dl fr[2020-03-06 10:20:51.680] Saved \"/root/.config/transmission/resume/[FreeCourseSite.com] Udemy - Artificial Intelligence Reinforcement Learning in Python.2c2ece5a17620525.resume\"\n",
            "[2020-03-06 10:20:51.680] Saved \"/root/.config/transmission/stats.json\"\n",
            "Progress: 91.7%, dl from 1 of 1 [2020-03-06 10:25:11.976] [FreeCourseSite.com] Udemy - Artificial Intelligence Reinforcement Learning in Python: Could not connect to tracker\n",
            "[2020-03-06 10:25:11.976] [FreeCourseSite.com] Udemy - Artificial Intelligence Reinforcement Learning in Python: Retrying announce in 7216 seconds.\n",
            "Progress: 91.9%, dl from 1[2020-03-06 10:25:21.107] [FreeCourseSite.com] Udemy - Artificial Intelligence Reinforcement Learning in Python: Scrape error: Could not connect to tracker\n",
            "[2020-03-06 10:25:21.107] [FreeCourseSite.com] Udemy - Artificial Intelligence Reinforcement Learning in Python: Retrying scrape in 7237 seconds.\n",
            "Progress: 92.3%, dl from 1 of 1 peers (308 kB/s), ul to 0 (0 kB/s)[2020-03-06 10:25:38.156] [FreeCourseSite.com] Udemy - Artificial Intelligence Reinforcement Learning in Python: Could not connect to tracker\n",
            "[2020-03-06 10:25:38.156] [FreeCourseSite.com] Udemy - Artificial Intelligence Reinforcement Learning in Python: Retrying announce in 7231 seconds.\n",
            "Progress: 93.[2020-03-06 10:26:11.009] [FreeCourseSite.com] Udemy - Artificial Intelligence Reinforcement Learning in Python: Scrape error: Could not connect to tracker\n",
            "[2020-03-06 10:26:11.009] [FreeCourseSite.com] Udemy - Artificial Intelligence Reinforcement Learning in Python: Retrying scrape in 7238 seconds.\n",
            "Progress: 93.5%, dl from 1 of 1 peers (276 kB/s), ul to 0 ([2020-03-06 10:26:21.294] [FreeCourseSite.com] Udemy - Artificial Intelligence Reinforcement Learning in Python: Scrape error: Could not connect to tracker\n",
            "[2020-03-06 10:26:21.294] [FreeCourseSite.com] Udemy - Artificial Intelligence Reinforcement Learning in Python: Retrying scrape in 7202 seconds.\n",
            "Progress: 94.3%, dl from 1 of 1 pee[2020-03-06 10:26:51.698] Saved \"/root/.config/transmission/resume/[FreeCourseSite.com] Udemy - Artificial Intelligence Reinforcement Learning in Python.2c2ece5a17620525.resume\"\n",
            "[2020-03-06 10:26:51.698] Saved \"/root/.config/transmission/stats.json\"\n",
            "[2020-03-06 10:26:52.232] [FreeCourseSite.com] Udemy - Artificial Intelligence Reinforcement Learning in Python: Scrape error: Could not connect to tracker\n",
            "[2020-03-06 10:26:52.232] [FreeCourseSite.com] Udemy - Artificial Intelligence Reinforcement Learning in Python: Retrying scrape in 7233 seconds.\n",
            "Progress: 95.3%, dl from 1 of 1 peers (334 kB/s), ul to 0[2020-03-06 10:27:31.989] [FreeCourseSite.com] Udemy - Artificial Intelligence Reinforcement Learning in Python: Scrape error: Could not connect to tracker\n",
            "[2020-03-06 10:27:31.989] [FreeCourseSite.com] Udemy - Artificial Intelligence Reinforcement Learning in Python: Retrying scrape in 7259 seconds.\n",
            "Progress: 95.9%, dl from 1 of 1 peers (313 kB/s), ul to 0 (0 kB/s) [[2020-03-06 10:27:50.996] [FreeCourseSite.com] Udemy - Artificial Intelligence Reinforcement Learning in Python: Scrape error: Could not connect to tracker\n",
            "[2020-03-06 10:27:50.996] [FreeCourseSite.com] Udemy - Artificial Intelligence Reinforcement Learning in Python: Retrying scrape in 7215 seconds.\n",
            "[2020-03-06 10:27:51.175] [FreeCourseSite.com] Udemy - Artificial Intelligence Reinforcement Learning in Python: Scrape error: Could not connect to tracker\n",
            "[2020-03-06 10:27:51.175] [FreeCourseSite.com] Udemy - Artificial Intelligence Reinforcement Learning in Python: Retrying scrape in 7226 seconds.\n",
            "[2020-03-06 10:27:51.341] [FreeCourseSite.com] Udemy - Artificial Intelligence Reinforcement Learning in Python: Scrape error: Could not connect to tracker\n",
            "[2020-03-06 10:27:51.341] [FreeCourseSite.com] Udemy - Artificial Intelligence Reinforcement Learning in Python: Retrying scrape in 7253 seconds.\n",
            "Progress: 98.2%, dl from 1 of 1 peers (260 kB/s), ul to 0 (0 kB/s) [0.00]    [2020-03-06 10:29:24.018] [FreeCourseSite.com] Udemy - Artificial Intelligence Reinforcement Learning in Python: Scrape error: Connection failed\n",
            "[2020-03-06 10:29:24.018] [FreeCourseSite.com] Udemy - Artificial Intelligence Reinforcement Learning in Python: Retrying scrape in 7241 seconds.\n",
            "Progress: 99.8%, dl from 1 of[2020-03-06 10:30:25.055] [FreeCourseSite.com] Udemy - Artificial Intelligence Reinforcement Learning in Python: Connection failed\n",
            "[2020-03-06 10:30:25.055] [FreeCourseSite.com] Udemy - Artificial Intelligence Reinforcement Learning in Python: Retrying announce in 7246 seconds.\n",
            "[2020-03-06 10:30:25.055] [FreeCourseSite.com] Udemy - Artificial Intelligence Reinforcement Learning in Python: Scrape error: Connection failed\n",
            "[2020-03-06 10:30:25.055] [FreeCourseSite.com] Udemy - Artificial Intelligence Reinforcement Learning in Python: Retrying scrape in 7237 seconds.\n",
            "Progress: 99.9%, dl fro[2020-03-06 10:30:31.050] [FreeCourseSite.com] Udemy - Artificial Intelligence Reinforcement Learning in Python: State changed from \"Incomplete\" to \"Complete\"\n",
            "[2020-03-06 10:30:31.081] [FreeCourseSite.com] Udemy - Artificial Intelligence Reinforcement Learning in Python: Could not connect to tracker\n",
            "[2020-03-06 10:30:31.081] [FreeCourseSite.com] Udemy - Artificial Intelligence Reinforcement Learning in Python: Retrying announce in 7241 seconds.\n",
            "[2020-03-06 10:30:31.093] [FreeCourseSite.com] Udemy - Artificial Intelligence Reinforcement Learning in Python: Could not connect to tracker\n",
            "[2020-03-06 10:30:31.093] [FreeCourseSite.com] Udemy - Artificial Intelligence Reinforcement Learning in Python: Retrying announce in 7225 seconds.\n",
            "[2020-03-06 10:30:31.157] [FreeCourseSite.com] Udemy - Artificial Intelligence Reinforcement Learning in Python: Could not connect to tracker\n",
            "[2020-03-06 10:30:31.157] [FreeCourseSite.com] Udemy - Artificial Intelligence Reinforcement Learning in Python: Retrying announce in 7209 seconds.\n",
            "[2020-03-06 10:30:31.240] [FreeCourseSite.com] Udemy - Artificial Intelligence Reinforcement Learning in Python: Could not connect to tracker\n",
            "[2020-03-06 10:30:31.240] [FreeCourseSite.com] Udemy - Artificial Intelligence Reinforcement Learning in Python: Retrying announce in 7226 seconds.\n",
            "[2020-03-06 10:30:31.297] [FreeCourseSite.com] Udemy - Artificial Intelligence Reinforcement Learning in Python: Could not connect to tracker\n",
            "[2020-03-06 10:30:31.297] [FreeCourseSite.com] Udemy - Artificial Intelligence Reinforcement Learning in Python: Retrying announce in 7231 seconds.\n",
            "[2020-03-06 10:30:31.300] [FreeCourseSite.com] Udemy - Artificial Intelligence Reinforcement Learning in Python: Could not connect to tracker\n",
            "[2020-03-06 10:30:31.300] [FreeCourseSite.com] Udemy - Artificial Intelligence Reinforcement Learning in Python: Retrying announce in 7226 seconds.\n",
            "[2020-03-06 10:30:31.321] [FreeCourseSite.com] Udemy - Artificial Intelligence Reinforcement Learning in Python: Could not connect to tracker\n",
            "[2020-03-06 10:30:31.321] [FreeCourseSite.com] Udemy - Artificial Intelligence Reinforcement Learning in Python: Retrying announce in 7225 seconds.\n",
            "[2020-03-06 10:30:31.364] [FreeCourseSite.com] Udemy - Artificial Intelligence Reinforcement Learning in Python: Could not connect to tracker\n",
            "[2020-03-06 10:30:31.364] [FreeCourseSite.com] Udemy - Artificial Intelligence Reinforcement Learning in Python: Retrying announce in 7238 seconds.\n",
            "[2020-03-06 10:30:31.448] [FreeCourseSite.com] Udemy - Artificial Intelligence Reinforcement Learning in Python: Could not connect to tracker\n",
            "[2020-03-06 10:30:31.448] [FreeCourseSite.com] Udemy - Artificial Intelligence Reinforcement Learning in Python: Retrying announce in 7233 seconds.\n",
            "[2020-03-06 10:30:32.029] [FreeCourseSite.com] Udemy - Artificial Intelligence Reinforcement Learning in Python: Could not connect to tracker\n",
            "[2020-03-06 10:30:32.029] [FreeCourseSite.com] Udemy - Artificial Intelligence Reinforcement Learning in Python: Retrying announce in 7245 seconds.\n",
            "Seedi[2020-03-06 10:30:55.068] [FreeCourseSite.com] Udemy - Artificial Intelligence Reinforcement Learning in Python: Scrape error: Connection failed\n",
            "[2020-03-06 10:30:55.068] [FreeCourseSite.com] Udemy - Artificial Intelligence Reinforcement Learning in Python: Retrying scrape in 7209 seconds.\n",
            "Seeding, uploading to 0 of 0 peer(s), 0 kB/s [0.00]     [2020-03-06 10:31:33.088] [FreeCourseSite.com] Udemy - Artificial Intelligence Reinforcement Learning in Python: Connection failed\n",
            "[2020-03-06 10:31:33.088] [FreeCourseSite.com] Udemy - Artificial Intelligence Reinforcement Learning in Python: Retrying announce in 7216 seconds.\n",
            "[2020-03-06 10:31:33.088] [FreeCourseSite.com] Udemy - Artificial Intelligence Reinforcement Learning in Python: Connection failed\n",
            "[2020-03-06 10:31:33.088] [FreeCourseSite.com] Udemy - Artificial Intelligence Reinforcement Learning in Python: Retrying announce in 7244 seconds.\n",
            "[2020-03-06 10:31:33.088] [FreeCourseSite.com] Udemy - Artificial Intelligence Reinforcement Learning in Python: Connection failed\n",
            "[2020-03-06 10:31:33.088] [FreeCourseSite.com] Udemy - Artificial Intelligence Reinforcement Learning in Python: Retrying announce in 7215 seconds.\n",
            "Seeding, uploading to[2020-03-06 10:31:42.000] [FreeCourseSite.com] Udemy - Artificial Intelligence Reinforcement Learning in Python: Starting IPv4 DHT announce (firewalled, 176 nodes)\n",
            "Seeding, [2020-03-06 10:31:58.099] [FreeCourseSite.com] Udemy - Artificial Intelligence Reinforcement Learning in Python: Connection failed\n",
            "[2020-03-06 10:31:58.099] [FreeCourseSite.com] Udemy - Artificial Intelligence Reinforcement Learning in Python: Retrying announce in 7223 seconds.\n",
            "Seeding, uploading to 0 of 0 peer(s), 0 kB/s [0.[2020-03-06 10:32:51.693] Saved \"/root/.config/transmission/resume/[FreeCourseSite.com] Udemy - Artificial Intelligence Reinforcement Learning in Python.2c2ece5a17620525.resume\"\n",
            "[2020-03-06 10:32:51.693] Saved \"/root/.config/transmission/stats.json\"\n",
            "Seeding, uploading to 0 of 0 peer(s),[2020-03-06 10:35:54.067] [FreeCourseSite.com] Udemy - Artificial Intelligence Reinforcement Learning in Python: IPv4 DHT announce done\n",
            "Seeding, uploading to 0 of 0 peer(s), 0 kB/s [0.00]                           [2020-03-06 10:59:32.001] [FreeCourseSite.com] Udemy - Artificial Intelligence Reinforcement Learning in Python: Starting IPv4 DHT announce (firewalled, 173 nodes)\n",
            "Seeding, uploading to 0 of 0 peer(s"
          ],
          "name": "stdout"
        }
      ]
    },
    {
      "cell_type": "markdown",
      "metadata": {
        "id": "Nx9ud5luiyJY"
      },
      "source": [
        "## **B**. <img src='https://yuju.pw/y/3dLR.png' height=\"43\" alt=\"ngrok\"/>\n",
        "#### (***Not Recommended***)\n"
      ]
    },
    {
      "cell_type": "code",
      "metadata": {
        "id": "aO74zstqkSsh",
        "cellView": "form",
        "colab": {
          "base_uri": "https://localhost:8080/",
          "height": 181,
          "referenced_widgets": [
            "9314f25b09434cff856408ffc515ac17",
            "beb6c29217214a289215f2beaffb73d3",
            "77812b0929144cbf9863e3a45e8675c5"
          ]
        },
        "outputId": "73870d31-6918-4b36-a1af-534ded65bcfe"
      },
      "source": [
        "#@title ← ឵឵ Run This Cell for ***qBitTorrent*** *v4.1.7 Web UI* \n",
        "#@markdown <h5>- Don't use the mounted Google Drive as a save path for torrent; data corruption will most likely occur.</h5>\n",
        "Old_Version = False #@param {type:\"boolean\"}\n",
        "# ================================================================ #\n",
        "\n",
        "import os, psutil, IPython, uuid, time\n",
        "import ipywidgets as widgets\n",
        "\n",
        "from IPython.display import HTML, clear_output\n",
        "from google.colab import output\n",
        "\n",
        "class MakeButton(object):\n",
        "  def __init__(self, title, callback):\n",
        "    self._title = title\n",
        "    self._callback = callback\n",
        "  def _repr_html_(self):\n",
        "    callback_id = 'button-' + str(uuid.uuid4())\n",
        "    output.register_callback(callback_id, self._callback)\n",
        "    template = \"\"\"<button class=\"p-Widget jupyter-widgets jupyter-button widget-button mod-info\" id=\"{callback_id}\">{title}</button>\n",
        "        <script>\n",
        "          document.querySelector(\"#{callback_id}\").onclick = (e) => {{\n",
        "            google.colab.kernel.invokeFunction('{callback_id}', [], {{}})\n",
        "            e.preventDefault();\n",
        "          }};\n",
        "        </script>\"\"\"\n",
        "    html = template.format(title=self._title, callback_id=callback_id)\n",
        "    return html\n",
        "  \n",
        "def MakeLabel(description, button_style):\n",
        "  return widgets.Button(description=description, disabled=True, button_style=button_style)\n",
        "\n",
        "def RandomGenerator():\n",
        "  return time.strftime(\"%S\") + str(time.time()).split(\".\")[-1]\n",
        "\n",
        "def CheckProcess(process, command):\n",
        "  for pid in psutil.pids():\n",
        "    try:\n",
        "      p = psutil.Process(pid)\n",
        "      if process in p.name():\n",
        "        for arg in p.cmdline():\n",
        "          if command in str(arg):  \n",
        "            return True\n",
        "          else:\n",
        "            pass\n",
        "      else:\n",
        "        pass\n",
        "    except:\n",
        "      continue\n",
        "  \n",
        "def AutoSSH(name,port):\n",
        "  get_ipython().system_raw(\"autossh -l \" + name + \" -M 0 -fNT -o 'StrictHostKeyChecking=no' -o 'ServerAliveInterval 300' -o 'ServerAliveCountMax 30' -R 80:localhost:\" + port + \" ssh.localhost.run &\")\n",
        "  get_ipython().system_raw(\"autossh -M 0 -fNT -o 'StrictHostKeyChecking=no' -o 'ServerAliveInterval 300' -o 'ServerAliveCountMax 30' -R \" + name + \":80:localhost:\" + port + \" serveo.net &\")\n",
        "\n",
        "def Start_Server():\n",
        "  if CheckProcess(\"qbittorrent-nox\", \"\") != True:\n",
        "    get_ipython().system_raw(\"qbittorrent-nox -d --webui-port=6006\")\n",
        "  if CheckProcess(\"autossh\", \"qb\" + Random_Number) != True:\n",
        "      AutoSSH(\"qb\" + Random_Number, \"6006\")\n",
        "\n",
        "try:\n",
        "  try:\n",
        "    Random_Number\n",
        "  except NameError:\n",
        "    display(MakeLabel(\"Installing in Progress\", \"warning\"))\n",
        "    Random_Number = RandomGenerator()\n",
        "    get_ipython().system_raw(\"rm -rf /content/sample_data/ &\")\n",
        "  if os.path.isfile(\"/usr/bin/qbittorrent-nox\") == False:\n",
        "    get_ipython().system_raw(\"apt update -qq -y && yes \"\" | add-apt-repository ppa:qbittorrent-team/qbittorrent-stable\")\n",
        "    if Old_Version == True:\n",
        "      get_ipython().system_raw(\"apt install qbittorrent-nox=4.0.3-1 -qq -y\")\n",
        "    else:\n",
        "      get_ipython().system_raw(\"apt install qbittorrent-nox -qq -y\")\n",
        "    get_ipython().system_raw(\"mkdir -p -m 666 /{content/qBittorrent,root/{.qBittorrent_temp,.config/qBittorrent}} && wget -q https://minormole.github.io/RcloneLab/res/qbittorrent/qBittorrent.conf -O /root/.config/qBittorrent/qBittorrent.conf\")\n",
        "  if os.path.isfile(\"/usr/bin/autossh\") == False:\n",
        "    get_ipython().system_raw(\"apt install autossh -qq -y\")\n",
        "  Start_Server()\n",
        "  clear_output(wait=True)\n",
        "  display(MakeLabel(\"✔ Successfully\", \"success\"), MakeButton(\"Recheck\", Start_Server), HTML(\"<h2 style=\\\"font-family:Trebuchet MS;color:#4f8bd6;\\\">qBittorrent</h2><h4 style=\\\"font-family:Trebuchet MS;color:#4f8bd6;\\\">\" \\\n",
        "                    \"<a style=\\\"font-family:Trebuchet MS;color:#356ebf;\\\" href=\\\"http://qb\" + Random_Number + \".serveo.net\\\" target=\\\"_blank\\\">Website</a><br>\" \\\n",
        "                    \"<a style=\\\"font-family:Trebuchet MS;color:#356ebf;\\\" href=\\\"http://qb\" + Random_Number + \".localhost.run\\\" target=\\\"_blank\\\">Website (Backup)</a></h4>\"))\n",
        "except:\n",
        "  clear_output(wait=True)\n",
        "  display(MakeLabel(\"✘ Unsuccessfully\", \"danger\"))"
      ],
      "execution_count": null,
      "outputs": [
        {
          "output_type": "display_data",
          "data": {
            "application/vnd.jupyter.widget-view+json": {
              "model_id": "9314f25b09434cff856408ffc515ac17",
              "version_minor": 0,
              "version_major": 2
            },
            "text/plain": [
              "Button(button_style='success', description='✔ Successfully', disabled=True, style=ButtonStyle())"
            ]
          },
          "metadata": {
            "tags": []
          }
        },
        {
          "output_type": "display_data",
          "data": {
            "text/html": [
              "<button class=\"p-Widget jupyter-widgets jupyter-button widget-button mod-info\" id=\"button-a3155728-59cf-4c40-ab38-6e56d00970dc\">Recheck</button>\n",
              "        <script>\n",
              "          document.querySelector(\"#button-a3155728-59cf-4c40-ab38-6e56d00970dc\").onclick = (e) => {\n",
              "            google.colab.kernel.invokeFunction('button-a3155728-59cf-4c40-ab38-6e56d00970dc', [], {})\n",
              "            e.preventDefault();\n",
              "          };\n",
              "        </script>"
            ],
            "text/plain": [
              "<__main__.MakeButton at 0x7f43320b7898>"
            ]
          },
          "metadata": {
            "tags": []
          }
        },
        {
          "output_type": "display_data",
          "data": {
            "text/html": [
              "<h2 style=\"font-family:Trebuchet MS;color:#4f8bd6;\">qBittorrent</h2><h4 style=\"font-family:Trebuchet MS;color:#4f8bd6;\"><a style=\"font-family:Trebuchet MS;color:#356ebf;\" href=\"http://qb099841368.serveo.net\" target=\"_blank\">Website</a><br><a style=\"font-family:Trebuchet MS;color:#356ebf;\" href=\"http://qb099841368.localhost.run\" target=\"_blank\">Website (Backup)</a></h4>"
            ],
            "text/plain": [
              "<IPython.core.display.HTML object>"
            ]
          },
          "metadata": {
            "tags": []
          }
        }
      ]
    },
    {
      "cell_type": "markdown",
      "metadata": {
        "id": "8YFON0D4mVdr"
      },
      "source": [
        "# **3**. JDownloader\n",
        "# <img src='https://szyha.github.io/RcloneLabArchive/img/title_jdownloader.png' height=\"56\" alt=\"JDownloader\"/>"
      ]
    },
    {
      "cell_type": "code",
      "metadata": {
        "id": "eyTydVIrm2Ms",
        "cellView": "form",
        "colab": {
          "base_uri": "https://localhost:8080/",
          "height": 238,
          "referenced_widgets": [
            "00864400665943efa8e43906f4de4a3d",
            "157deaa02272406c8d665cafa5005c77",
            "6716f2e4cf2942e3afb9633563862cc6"
          ]
        },
        "outputId": "c2ac887c-6bfb-4b1d-f6fd-5c199023eccb"
      },
      "source": [
        "#@markdown ← ឵឵ Click Here to Install JDownloader\n",
        "\n",
        "import os, uuid, re, IPython\n",
        "import ipywidgets as widgets\n",
        "\n",
        "from glob import glob\n",
        "from IPython.display import HTML, clear_output\n",
        "from google.colab import output\n",
        "\n",
        "Email = widgets.Text(placeholder=\"*Required\", description=\"Email:\")\n",
        "Password = widgets.Text(placeholder=\"*Required\", description=\"Password:\")\n",
        "Device = widgets.Text(placeholder=\"Optional\", description=\"Name:\")\n",
        "SavePath = widgets.Dropdown(value=\"/content\", options=[\"/content\", \"/content/Downloads\"], description=\"Save Path:\")\n",
        "\n",
        "class MakeButton(object):\n",
        "  def __init__(self, title, callback, style):\n",
        "    self._title = title\n",
        "    self._callback = callback\n",
        "    self._style = style\n",
        "  def _repr_html_(self):\n",
        "    callback_id = 'button-' + str(uuid.uuid4())\n",
        "    output.register_callback(callback_id, self._callback)\n",
        "    if self._style != \"\":\n",
        "      style_html = \"p-Widget jupyter-widgets jupyter-button widget-button mod-\" + self._style\n",
        "    else:\n",
        "      style_html = \"p-Widget jupyter-widgets jupyter-button widget-button\"\n",
        "    template = \"\"\"<button class=\"{style_html}\" id=\"{callback_id}\">{title}</button>\n",
        "        <script>\n",
        "          document.querySelector(\"#{callback_id}\").onclick = (e) => {{\n",
        "            google.colab.kernel.invokeFunction('{callback_id}', [], {{}})\n",
        "            e.preventDefault();\n",
        "          }};\n",
        "        </script>\"\"\"\n",
        "    html = template.format(title=self._title, callback_id=callback_id, style_html=style_html)\n",
        "    return html\n",
        "  \n",
        "def MakeLabel(description, button_style):\n",
        "  return widgets.Button(description=description, disabled=True, button_style=button_style)\n",
        "\n",
        "def RefreshPath():\n",
        "  if os.path.exists(\"/content/drive/\"):\n",
        "    if os.path.exists(\"/content/drive/Shared drives/\"):\n",
        "      SavePath.options = [\"/content\", \"/content/Downloads\", \"/content/drive/My Drive\"] + glob(\"/content/drive/Shared drives/*\")\n",
        "    else:\n",
        "      SavePath.options = [\"/content\", \"/content/Downloads\", \"/content/drive/My Drive\"]\n",
        "  else:\n",
        "    SavePath.options = [\"/content\", \"/content/Downloads\"]\n",
        "\n",
        "def LoginForm():\n",
        "  clear_output()\n",
        "  Email.value = \"\"\n",
        "  Password.value = \"\"\n",
        "  Device.value = \"\"\n",
        "  RefreshPath()\n",
        "  display(HTML(\"<h3 style=\\\"font-family:Trebuchet MS;color:#4f8bd6;\\\">If you don't have an account yet, please register <a href=\\\"https://my.jdownloader.org/login.html#register\\\" target=\\\"_blank\\\">here</a>.</h3>\"), HTML(\"<br>\"), Email, Password, Device, SavePath)\n",
        "  if not os.path.exists(\"/content/drive/\"):\n",
        "    display(HTML(\"*If you want to save in Google Drive please run the cell below.\"))\n",
        "  display(HTML(\"<br>\"), MakeButton(\"Login\", CheckLogin, \"info\"))\n",
        "  if os.path.isfile(\"/root/.JDownloader/cfg/org.jdownloader.api.myjdownloader.MyJDownloaderSettings.json\"):\n",
        "    display(MakeButton(\"Cancel\", Show, \"danger\"))\n",
        "  \n",
        "def RestartForm():\n",
        "  clear_output()\n",
        "  display(MakeLabel(\"Restart Confirm?\", \"\"), MakeButton(\"Confirm\", Restart, \"danger\"), MakeButton(\"Cancel\", Show, \"warning\"))\n",
        "  \n",
        "def ExitForm():\n",
        "  clear_output()\n",
        "  display(MakeLabel(\"Exit Confirm?\", \"\"), MakeButton(\"Confirm\", Exit, \"danger\"), MakeButton(\"Cancel\", Show, \"warning\"))\n",
        "\n",
        "def CheckLogin():\n",
        "  try:\n",
        "    if not Email.value.strip():\n",
        "      ERROR = \"Email field is empty.\"\n",
        "      THROW_ERROR\n",
        "    if not \"@\" in Email.value and not \".\" in Email.value:\n",
        "      ERROR = \"Email is an incorrect format.\"\n",
        "      THROW_ERROR\n",
        "    if not Password.value.strip():\n",
        "      ERROR = \"Password field is empty.\"\n",
        "      THROW_ERROR\n",
        "    if not bool(re.match(\"^[a-zA-Z0-9]+$\", Device.value)) and Device.value.strip():\n",
        "      ERROR = \"Only alphanumeric are allowed for the device name.\"\n",
        "      THROW_ERROR\n",
        "    Login()\n",
        "  except:\n",
        "    print(ERROR)\n",
        "\n",
        "def Login():\n",
        "  clear_output()\n",
        "  if SavePath.value == \"/content\":\n",
        "    get_ipython().system_raw(\"echo '{\\\"defaultdownloadfolder\\\" : \\\"/content\\\"}' > /root/.JDownloader/cfg/org.jdownloader.settings.GeneralSettings.json\")\n",
        "  elif SavePath.value == \"/content/Downloads\":\n",
        "    get_ipython().system_raw(\"mkdir -p -m 666 /content/Downloads\")\n",
        "    get_ipython().system_raw(\"echo '{\\\"defaultdownloadfolder\\\" : \\\"/content/Downloads\\\"}' > /root/.JDownloader/cfg/org.jdownloader.settings.GeneralSettings.json\")\n",
        "  else:\n",
        "    get_ipython().system_raw(\"echo '{\\\"defaultdownloadfolder\\\" : \\\"\" + SavePath.value + \"\\\"}' > /root/.JDownloader/cfg/org.jdownloader.settings.GeneralSettings.json\")\n",
        "  if Device.value.strip() == \"\":\n",
        "    Device.value = Email.value\n",
        "  get_ipython().system_raw(\"pkill -9 -e -f java\")\n",
        "  get_ipython().system_raw(\"echo '{\\\"email\\\" : \\\"'\" + Email.value + \"'\\\", \\\"password\\\" : \\\"'\" + Password.value + \"'\\\", \\\"devicename\\\" : \\\"'\" + Device.value + \"'\\\", \\\"directconnectmode\\\" : \\\"LAN\\\"}' > /root/.JDownloader/cfg/org.jdownloader.api.myjdownloader.MyJDownloaderSettings.json\")\n",
        "  get_ipython().system_raw(\"java -jar /root/.JDownloader/JDownloader.jar -norestart -noerr -r &\")\n",
        "  Show()\n",
        "\n",
        "def Restart():\n",
        "  get_ipython().system_raw(\"pkill -9 -e -f java\")\n",
        "  get_ipython().system_raw(\"java -jar /root/.JDownloader/JDownloader.jar -norestart -noerr -r &\")\n",
        "  Show()\n",
        "  \n",
        "def Exit():\n",
        "  get_ipython().system_raw(\"pkill -9 -e -f java\")\n",
        "  clear_output()\n",
        "  display(MakeButton(\"Start\", Restart, \"info\"))\n",
        "  \n",
        "def Show():\n",
        "  clear_output()\n",
        "  display(MakeLabel(\"Control Panel\", \"\"), HTML(\"<h3 style=\\\"font-family:Trebuchet MS;color:#4f8bd6;\\\">You can login to the WebUI by clicking <a href=\\\"https://my.jdownloader.org/\\\" target=\\\"_blank\\\">here</a>.</h3>\"), HTML(\"<h4 style=\\\"font-family:Trebuchet MS;color:#4f8bd6;\\\">If the server didn't showup in 30 sec. please re-login.</h4>\"), HTML(\"<br>\"), MakeButton(\"Re-Login\", LoginForm, \"info\"), MakeButton(\"Restart\", RestartForm, \"warning\"), MakeButton(\"Exit\", ExitForm, \"danger\"))\n",
        "  \n",
        "    \n",
        "if not os.path.isfile(\"/root/.JDownloader/JDownloader.jar\"):\n",
        "  clear_output()\n",
        "  display(MakeLabel(\"Installing in Progress\", \"warning\"))\n",
        "  get_ipython().system_raw(\"rm -rf /content/sample_data/ && apt install openjdk-8-jre-headless -qq -y && mkdir -p -m 666 /root/.JDownloader && wget -q http://installer.jdownloader.org/JDownloader.jar -O /root/.JDownloader/JDownloader.jar && java -jar /root/.JDownloader/JDownloader.jar -norestart -h\")\n",
        "  LoginForm()\n",
        "elif not os.path.isfile(\"/root/.JDownloader/cfg/org.jdownloader.api.myjdownloader.MyJDownloaderSettings.json\"):\n",
        "  LoginForm()\n",
        "else:  \n",
        "  Show()"
      ],
      "execution_count": null,
      "outputs": [
        {
          "output_type": "display_data",
          "data": {
            "application/vnd.jupyter.widget-view+json": {
              "model_id": "00864400665943efa8e43906f4de4a3d",
              "version_minor": 0,
              "version_major": 2
            },
            "text/plain": [
              "Button(description='Control Panel', disabled=True, style=ButtonStyle())"
            ]
          },
          "metadata": {
            "tags": []
          }
        },
        {
          "output_type": "display_data",
          "data": {
            "text/html": [
              "<h3 style=\"font-family:Trebuchet MS;color:#4f8bd6;\">You can login to the WebUI by clicking <a href=\"https://my.jdownloader.org/\" target=\"_blank\">here</a>.</h3>"
            ],
            "text/plain": [
              "<IPython.core.display.HTML object>"
            ]
          },
          "metadata": {
            "tags": []
          }
        },
        {
          "output_type": "display_data",
          "data": {
            "text/html": [
              "<h4 style=\"font-family:Trebuchet MS;color:#4f8bd6;\">If the server didn't showup in 30 sec. please re-login.</h4>"
            ],
            "text/plain": [
              "<IPython.core.display.HTML object>"
            ]
          },
          "metadata": {
            "tags": []
          }
        },
        {
          "output_type": "display_data",
          "data": {
            "text/html": [
              "<br>"
            ],
            "text/plain": [
              "<IPython.core.display.HTML object>"
            ]
          },
          "metadata": {
            "tags": []
          }
        },
        {
          "output_type": "display_data",
          "data": {
            "text/html": [
              "<button class=\"p-Widget jupyter-widgets jupyter-button widget-button mod-info\" id=\"button-a6277a41-5573-44cc-b1be-9140180245e9\">Re-Login</button>\n",
              "        <script>\n",
              "          document.querySelector(\"#button-a6277a41-5573-44cc-b1be-9140180245e9\").onclick = (e) => {\n",
              "            google.colab.kernel.invokeFunction('button-a6277a41-5573-44cc-b1be-9140180245e9', [], {})\n",
              "            e.preventDefault();\n",
              "          };\n",
              "        </script>"
            ],
            "text/plain": [
              "<__main__.MakeButton at 0x7f82d585a358>"
            ]
          },
          "metadata": {
            "tags": []
          }
        },
        {
          "output_type": "display_data",
          "data": {
            "text/html": [
              "<button class=\"p-Widget jupyter-widgets jupyter-button widget-button mod-warning\" id=\"button-5bd9877b-47a7-44c4-996d-29cb6ad94480\">Restart</button>\n",
              "        <script>\n",
              "          document.querySelector(\"#button-5bd9877b-47a7-44c4-996d-29cb6ad94480\").onclick = (e) => {\n",
              "            google.colab.kernel.invokeFunction('button-5bd9877b-47a7-44c4-996d-29cb6ad94480', [], {})\n",
              "            e.preventDefault();\n",
              "          };\n",
              "        </script>"
            ],
            "text/plain": [
              "<__main__.MakeButton at 0x7f82d585a550>"
            ]
          },
          "metadata": {
            "tags": []
          }
        },
        {
          "output_type": "display_data",
          "data": {
            "text/html": [
              "<button class=\"p-Widget jupyter-widgets jupyter-button widget-button mod-danger\" id=\"button-fca36ae7-64f8-41e1-82bd-162ad455e3e5\">Exit</button>\n",
              "        <script>\n",
              "          document.querySelector(\"#button-fca36ae7-64f8-41e1-82bd-162ad455e3e5\").onclick = (e) => {\n",
              "            google.colab.kernel.invokeFunction('button-fca36ae7-64f8-41e1-82bd-162ad455e3e5', [], {})\n",
              "            e.preventDefault();\n",
              "          };\n",
              "        </script>"
            ],
            "text/plain": [
              "<__main__.MakeButton at 0x7f82d585a860>"
            ]
          },
          "metadata": {
            "tags": []
          }
        }
      ]
    },
    {
      "cell_type": "markdown",
      "metadata": {
        "id": "StT2bKf2WmKj"
      },
      "source": [
        "# **4**. wget\n",
        "# <img src='https://yuju.pw/y/q4aq.png' height=\"54\" alt=\"qBitTorrent\"/>\n"
      ]
    },
    {
      "cell_type": "code",
      "metadata": {
        "id": "_NiTOoCg-hLp",
        "cellView": "form"
      },
      "source": [
        "#@title <h3><b>←</b> Run to Download a DDL File\n",
        "#@markdown <h5><i>Example URL:</i> <a src=\"\">https://files.catbox.moe/archive.zip</a>\n",
        "direct_URL = \"\" #@param {type:\"string\"}\n",
        "output_dir = \"\" #@param {type:\"string\"}\n",
        "\n",
        "!wget \"$Direct_URL\" \"$output_dir\""
      ],
      "execution_count": null,
      "outputs": []
    },
    {
      "cell_type": "code",
      "metadata": {
        "id": "YQ8L9YSt6KDc"
      },
      "source": [
        "!apt-get install pySmartDL\n",
        "from pySmartDL import SmartDL\n",
        "\n",
        "url = \"https://dl.playstop.ir/files/Nmovie/2021/SAS:%20Red%20Notice%20/SAS.Red.Notice.2021.720p.HDRip.800MB.x264-GalaxyRG.mkv\"\n",
        "dest = \"/content/drive/My Drive\"\n",
        "\n",
        "obj = SmartDL(url, dest)\n",
        "obj.start()"
      ],
      "execution_count": null,
      "outputs": []
    },
    {
      "cell_type": "code",
      "metadata": {
        "id": "te_xmO1X9Yzk"
      },
      "source": [
        "!pip install pysmartdl"
      ],
      "execution_count": null,
      "outputs": []
    },
    {
      "cell_type": "markdown",
      "metadata": {
        "id": "mtIWnZ60Sczn"
      },
      "source": [
        "# **5**. folderclone\n",
        "\n",
        "# <img src='https://yuju.pw/y/q6fc.png' height=\"60\" alt=\"qBitTorrent\"/>\n",
        "\n"
      ]
    },
    {
      "cell_type": "markdown",
      "metadata": {
        "id": "jWNiE-RGECHM"
      },
      "source": [
        "### **Step 1.** Installing Required modules"
      ]
    },
    {
      "cell_type": "code",
      "metadata": {
        "id": "12dTZfUQEN8b",
        "cellView": "form"
      },
      "source": [
        "#@markdown <h3><b>←</b> Run this cell to install all required modules</h3>\n",
        "!python -m pip install --upgrade pip\n",
        "!pip install oauth2client\n",
        "!pip install google-api-python-client\n",
        "!pip install progress\n",
        "!pip install progressbar2\n",
        "!pip install httplib2shim"
      ],
      "execution_count": null,
      "outputs": []
    },
    {
      "cell_type": "markdown",
      "metadata": {
        "id": "MbJ_88vSD-K2"
      },
      "source": [
        "### **Step 2.** Pulling your repo from GitHub\n",
        "- *Remove* \"<code>https://</code>\" *from Repo link*"
      ]
    },
    {
      "cell_type": "code",
      "metadata": {
        "id": "h5kQ5bxsDNiX",
        "cellView": "form"
      },
      "source": [
        "#@markdown <h3><b>←</b> Click here download your private repo</h3>\n",
        "import os\n",
        "userID = \"\" #@param {type:\"string\"}\n",
        "Password = \"\"#@param {type:\"string\"}\n",
        "Repolink = \"github.com/MissSarahh/MFCBPDEMO\"#@param {type:\"string\"}\n",
        "!git clone https://\"$userID\":\"$Password\"@\"$Repolink\".git"
      ],
      "execution_count": null,
      "outputs": []
    },
    {
      "cell_type": "markdown",
      "metadata": {
        "id": "XgMQmTB8EToD"
      },
      "source": [
        "### **Step 3.** Changing current working directory to *your folderclone*\n",
        "- *You should see a new folder in the file directory titled* folderclone"
      ]
    },
    {
      "cell_type": "code",
      "metadata": {
        "id": "MbaXfAt6Eb3V",
        "cellView": "form"
      },
      "source": [
        "#@markdown <h3><b>←</b> Run this cell to change default directory</h3>\n",
        "import os\n",
        "PATH = \"/content/folderclone\" #@param {type:\"string\"}\n",
        "\n",
        "%cd \"$PATH\""
      ],
      "execution_count": null,
      "outputs": []
    },
    {
      "cell_type": "markdown",
      "metadata": {
        "id": "cLQnx323EdqO"
      },
      "source": [
        "### **Step 4.** Check Current Directory"
      ]
    },
    {
      "cell_type": "code",
      "metadata": {
        "id": "X04yZvEwEkyr",
        "cellView": "form"
      },
      "source": [
        "#@markdown <h3><b>←</b> Run this cell to check the working directory</h3>\n",
        "import os\n",
        "os.getcwd()"
      ],
      "execution_count": null,
      "outputs": []
    },
    {
      "cell_type": "markdown",
      "metadata": {
        "id": "yTPpo294F0U8"
      },
      "source": [
        "### **Step 5.** Adding All SAs to TD\n",
        "- In the  field below put the Team Drive ID that you want to add all SAs to\n",
        "* You'll only need to do this step ***once***, your progress is saved on GitHub\n",
        "\n",
        "<h4><b><i>Important:</b></i></h4>\n",
        "<h5> ✧  ឵After completing this step, you can <b>skip</b> it in the future!"
      ]
    },
    {
      "cell_type": "code",
      "metadata": {
        "id": "N_TmVIzfFyRQ",
        "cellView": "form"
      },
      "source": [
        "#@markdown <h3><b>←</b> Run this cell to add all SAs to a Team Drive</h3>\n",
        "#@markdown <h5><i>This may take some time. Be patient!</i></h5>\n",
        "import os\n",
        "TDid = \"\" #@param {type:\"string\"}\n",
        "!python masshare.py -d \"$TDid\""
      ],
      "execution_count": null,
      "outputs": []
    },
    {
      "cell_type": "markdown",
      "metadata": {
        "id": "n3MWoStHEnJx"
      },
      "source": [
        "### **Final Step -** Running folderclone\n",
        "- Add the Source Folder ID and then the Destination Folder ID\n",
        "- Note: ***Your source*** *(*`src`*)* ***folder must be publically accessible***\n",
        "\n",
        "##### Folder IDs are found at the end of the URL:\n",
        "![](https://yuju.pw/y/qNvy.png)"
      ]
    },
    {
      "cell_type": "code",
      "metadata": {
        "id": "qHQzhGLUEy2J",
        "cellView": "form"
      },
      "source": [
        "#@title <h3><b>←</b> Run to clone all folders + files from <code>src</code> to <code>dest</code>\n",
        "#@markdown <i>Paste only the Folder IDs for these values</i>:\n",
        "src = \"\" #@param {type:\"string\"}\n",
        "dest = \"\" #@param {type:\"string\"}\n",
        "\n",
        "!python multifolderclone.py -s \"$src\" -d \"$dest\""
      ],
      "execution_count": null,
      "outputs": []
    },
    {
      "cell_type": "markdown",
      "metadata": {
        "id": "DYreGU9NvCdk"
      },
      "source": [
        "## ***Extra***"
      ]
    },
    {
      "cell_type": "markdown",
      "metadata": {
        "id": "OSG8fIhSAmZ-"
      },
      "source": [
        "### **Bonus 1:** Removing SAs from TD \n",
        "#### ✧ Note: This is ***not required***\n",
        "- Add the Team Drive ID from which you want to remove all SAs"
      ]
    },
    {
      "cell_type": "code",
      "metadata": {
        "id": "iWjIU7lwDWef",
        "cellView": "form"
      },
      "source": [
        "#@markdown <h3><b>←</b> Run this cell to remove all SAs to a TD</h3>\n",
        "import os\n",
        "TDid = \"\" #@param {type:\"string\"}\n",
        "\n",
        "!python remove.py \"$TDid\""
      ],
      "execution_count": null,
      "outputs": []
    },
    {
      "cell_type": "markdown",
      "metadata": {
        "id": "t0eVljW0O0CG"
      },
      "source": [
        "### **Bonus 2:** Deleting a Directory *(if needed, just in case)*\n",
        "#### ✧ Note: This is ***not required***"
      ]
    },
    {
      "cell_type": "code",
      "metadata": {
        "id": "LgG4fBSgO9Ev",
        "cellView": "form"
      },
      "source": [
        "#@title <h3><b>←</b> Run This Cell to Delete a Directory\n",
        "import os, shutil\n",
        "path = \"\" #@param {type:\"string\"}\n",
        "shutil.rmtree(path)\n",
        "print(\"Successfully deleted 👍\")"
      ],
      "execution_count": null,
      "outputs": []
    },
    {
      "cell_type": "markdown",
      "metadata": {
        "id": "ukxnQC4c0nuR"
      },
      "source": [
        "# **6.** FFmpeg\n",
        "# <img src='https://www.vozidea.com/wp-content/uploads/2018/05/ffmpeg-logo-grande.png ' height=\"57\" alt=\"RcloneLab\"/>"
      ]
    },
    {
      "cell_type": "markdown",
      "metadata": {
        "id": "EFOqhHG6hOVH"
      },
      "source": [
        "## ***Required to use Scripts:*** Install FFmpeg"
      ]
    },
    {
      "cell_type": "code",
      "metadata": {
        "id": "hFeE-qPuhTiK"
      },
      "source": [
        "!apt install ffmpeg"
      ],
      "execution_count": null,
      "outputs": []
    },
    {
      "cell_type": "markdown",
      "metadata": {
        "id": "KgNPvGccgwd8"
      },
      "source": [
        "## FFmpeg Scripts *(Convert, Edit, Trim + more)*"
      ]
    },
    {
      "cell_type": "markdown",
      "metadata": {
        "id": "RDHuIkoi6l9a"
      },
      "source": [
        "###» Display Media File Codecs + Metadata"
      ]
    },
    {
      "cell_type": "markdown",
      "metadata": {
        "id": "X4yIG_nqYAoH"
      },
      "source": [
        "> *You can ignore the \"At least one output file must be specified\" error after running this.*\n"
      ]
    },
    {
      "cell_type": "code",
      "metadata": {
        "id": "Sv8au_RO6WUs",
        "cellView": "form"
      },
      "source": [
        "import os, sys, re\n",
        "\n",
        "media_file_path = \"\" #@param {type:\"string\"}\n",
        "\n",
        "os.environ['inputFile'] = media_file_path\n",
        "\n",
        "!ffmpeg -i \"$inputFile\" -hide_banner"
      ],
      "execution_count": null,
      "outputs": []
    },
    {
      "cell_type": "markdown",
      "metadata": {
        "id": "NQ0TxfKeghR8"
      },
      "source": [
        "###» Convert *.mkv* ➔ *.mp4* (Lossless)"
      ]
    },
    {
      "cell_type": "code",
      "metadata": {
        "id": "Ls4O5VLwief-",
        "cellView": "form"
      },
      "source": [
        "import os, sys, re\n",
        "\n",
        "video_file_path = \"\" #@param {type:\"string\"}\n",
        "\n",
        "output_file_path = re.search(\"^[\\/].+\\/\", video_file_path)\n",
        "output_file_path_raw = output_file_path.group(0)\n",
        "delsplit = re.search(\"\\/(?:.(?!\\/))+$\", video_file_path)\n",
        "filename = re.sub(\"^[\\/]\", \"\", delsplit.group(0))\n",
        "filename_raw = re.sub(\".{4}$\", \"\", filename)\n",
        "\n",
        "os.environ['inputFile'] = video_file_path\n",
        "os.environ['outputFile'] = filename_raw\n",
        "os.environ['outputPath'] = output_file_path_raw\n",
        "\n",
        "!ffmpeg -hide_banner -i \"$inputFile\" -c copy -strict experimental \"$outputPath\"\"$outputFile\".mp4"
      ],
      "execution_count": null,
      "outputs": []
    },
    {
      "cell_type": "markdown",
      "metadata": {
        "id": "FpJXJiRl6-gK"
      },
      "source": [
        "###» Trim Video File (Lossless)"
      ]
    },
    {
      "cell_type": "code",
      "metadata": {
        "id": "iFBUeQhn7QTc",
        "cellView": "form"
      },
      "source": [
        "import os, sys, re\n",
        "\n",
        "video_file_path = \"\" #@param {type:\"string\"}\n",
        "start_time = \"00:00:00.000\" #@param {type:\"string\"}\n",
        "end_time = \"00:01:00.000\" #@param {type:\"string\"}\n",
        "\n",
        "output_file_path = re.search(\"^[\\/].+\\/\", video_file_path)\n",
        "output_file_path_raw = output_file_path.group(0)\n",
        "delsplit = re.search(\"\\/(?:.(?!\\/))+$\", video_file_path)\n",
        "filename = re.sub(\"^[\\/]\", \"\", delsplit.group(0))\n",
        "filename_raw = re.sub(\".{4}$\", \"\", filename)\n",
        "file_extension = re.search(\".{3}$\", filename)\n",
        "file_extension_raw = file_extension.group(0)\n",
        "\n",
        "os.environ['inputFile'] = video_file_path\n",
        "os.environ['outputPath'] = output_file_path_raw\n",
        "os.environ['startTime'] = start_time\n",
        "os.environ['endTime'] = end_time\n",
        "os.environ['fileName'] = filename_raw\n",
        "os.environ['fileExtension'] = file_extension_raw\n",
        "\n",
        "!ffmpeg -hide_banner -i \"$inputFile\" -ss \"$startTime\" -to \"$endTime\" -c copy \"$outputPath\"/\"$fileName\"-TRIM.\"$fileExtension\""
      ],
      "execution_count": null,
      "outputs": []
    },
    {
      "cell_type": "markdown",
      "metadata": {
        "id": "2f-THZmDoOaY"
      },
      "source": [
        "###» Extract Audio from Video File (Lossless)"
      ]
    },
    {
      "cell_type": "code",
      "metadata": {
        "id": "nSeO98YQoTJe",
        "cellView": "form"
      },
      "source": [
        "import os, sys, re\n",
        "\n",
        "video_file_path = \"\" #@param {type:\"string\"}\n",
        "output_file_extension = 'm4a' #@param [\"m4a\", \"mp3\", \"opus\", \"flac\", \"wav\"]\n",
        "\n",
        "delsplit = re.search(\"\\/(?:.(?!\\/))+$\", video_file_path)\n",
        "output_file_path = re.search(\"^[\\/].+\\/\", video_file_path)\n",
        "filename = re.sub(\"^[\\/]\", \"\", delsplit.group(0))\n",
        "filename_raw = re.sub(\".{4}$\", \"\", filename)\n",
        "\n",
        "os.environ['inputFile'] = video_file_path\n",
        "os.environ['outputPath'] = output_file_path.group(0)\n",
        "os.environ['fileName'] = filename_raw\n",
        "os.environ['fileType'] = output_file_extension\n",
        "\n",
        "!ffmpeg -hide_banner -i \"$inputFile\" -vn -c:a copy \"$outputPath\"/\"$fileName\"-audio.\"$fileType\""
      ],
      "execution_count": null,
      "outputs": []
    },
    {
      "cell_type": "markdown",
      "metadata": {
        "id": "MSUasbRUDP3B"
      },
      "source": [
        "###» Re-encode a Video to a Different Resolution"
      ]
    },
    {
      "cell_type": "code",
      "metadata": {
        "id": "nd2LvSRZCxRe",
        "cellView": "form"
      },
      "source": [
        "import os, sys, re\n",
        "\n",
        "video_file_path = '' #@param {type:\"string\"}\n",
        "resolution = '1080p' #@param [\"1080p\", \"720p\", \"480p\", \"360p\", \"240p\"]\n",
        "file_type = 'mp4' #@param [\"mkv\", \"mp4\"]\n",
        "\n",
        "delsplit = re.search(\"\\/(?:.(?!\\/))+$\", video_file_path)\n",
        "testsplit = video_file_path.split(\"/\")\n",
        "filename = re.sub(\"^[\\/]\", \"\", delsplit.group(0))\n",
        "filename_raw = re.sub(\".{4}$\", \"\", filename)\n",
        "resolution_raw = re.search(\"[^p]{3,4}\", resolution)\n",
        "output_file_path = re.search(\"^[\\/].+\\/\", video_file_path)\n",
        "\n",
        "os.environ['inputFile'] = video_file_path\n",
        "os.environ['outputPath'] = output_file_path.group(0)\n",
        "os.environ['fileName'] = filename_raw\n",
        "os.environ['fileType'] = file_type\n",
        "os.environ['resolutionHeight'] = resolution_raw.group(0)\n",
        "\n",
        "!ffmpeg -hide_banner -i \"$inputFile\" -vf \"scale=-1:\"$resolutionHeight\"\" -c:a copy -strict experimental \"$outputPath\"/\"$fileName\"-\"$resolutionHeight\"p.\"$fileType\""
      ],
      "execution_count": null,
      "outputs": []
    },
    {
      "cell_type": "markdown",
      "metadata": {
        "id": "0xI8WiUPji3k"
      },
      "source": [
        "# **7.** SSH Access\n",
        "# <img src='https://yuju.pw/y/qVwA.png' height=\"56\" alt=\"RcloneLab\"/>\n"
      ]
    },
    {
      "cell_type": "code",
      "metadata": {
        "id": "fsceu1YCkoes",
        "cellView": "form"
      },
      "source": [
        "#@markdown <h3><b>←</b> Run to enable SSH acccess\n",
        "#@markdown <h5><i>This will ask for your ngrok token from:</i> <a href=\"https://dashboard.ngrok.com/auth\">https://dashboard.ngrok.com/auth</a></h5>\n",
        "#Generate root password\n",
        "import random, string\n",
        "password = ''.join(random.choice(string.ascii_letters + string.digits) for i in range(20))\n",
        "#Download ngrok\n",
        "! wget -q -c -nc https://bin.equinox.io/c/4VmDzA7iaHb/ngrok-stable-linux-amd64.zip\n",
        "! unzip -qq -n ngrok-stable-linux-amd64.zip\n",
        "#Setup sshd\n",
        "! apt-get install -qq -o=Dpkg::Use-Pty=0 openssh-server pwgen > /dev/null\n",
        "#Set root password\n",
        "! echo root:$password | chpasswd\n",
        "! mkdir -p /var/run/sshd\n",
        "! echo \"PermitRootLogin yes\" >> /etc/ssh/sshd_config\n",
        "! echo \"PasswordAuthentication yes\" >> /etc/ssh/sshd_config\n",
        "! echo \"LD_LIBRARY_PATH=/usr/lib64-nvidia\" >> /root/.bashrc\n",
        "! echo \"export LD_LIBRARY_PATH\" >> /root/.bashrc\n",
        "#Run sshd\n",
        "get_ipython().system_raw('/usr/sbin/sshd -D &')\n",
        "#Ask token\n",
        "print(\"Copy authtoken from https://dashboard.ngrok.com/auth\")\n",
        "import getpass\n",
        "authtoken = getpass.getpass()\n",
        "#Create tunnel\n",
        "get_ipython().system_raw('./ngrok authtoken $authtoken && ./ngrok tcp 22 &')\n",
        "#Print root password\n",
        "print(\"Root password: {}\".format(password))\n",
        "#Get public address\n",
        "! curl -s http://localhost:4040/api/tunnels | python3 -c \\\n",
        "\"import sys, json; print(json.load(sys.stdin)['tunnels'][0]['public_url'])\""
      ],
      "execution_count": null,
      "outputs": []
    },
    {
      "cell_type": "markdown",
      "metadata": {
        "id": "Nl4RbJbX0-a4"
      },
      "source": [
        "# **8.** youtube-dl\n",
        "# <img src='https://yuju.pw/y/3wRy.png' height=\"52\" alt=\"RcloneLab\"/>"
      ]
    },
    {
      "cell_type": "code",
      "metadata": {
        "id": "dCK-puiMnHYj",
        "cellView": "form"
      },
      "source": [
        "#@markdown <h3><b>←</b> Click Here to use youtube-dl</h3>\n",
        "\n",
        "import os, uuid, urllib.parse\n",
        "import ipywidgets as widgets\n",
        "Archive = False\n",
        "\n",
        "from glob import glob\n",
        "from urllib.parse import urlparse, parse_qs\n",
        "from IPython.display import HTML, clear_output, YouTubeVideo\n",
        "from IPython.utils.io import ask_yes_no\n",
        "from google.colab import output, files\n",
        "\n",
        "Links = widgets.Textarea(placeholder='''Video/Playlist Link\n",
        "(one link per line)''')\n",
        "\n",
        "VideoQ = widgets.Dropdown(options=[\"Best Quality (VP9 upto 4K)\", \"Best Compatibility (H.264 upto 1080p)\"])\n",
        "\n",
        "AudioQ = widgets.Dropdown(options=[\"Best Quality (Opus)\", \"Best Compatibility (M4A)\"])\n",
        "\n",
        "Subtitle = widgets.ToggleButton(value=True, description=\"Subtitle\", button_style=\"info\", tooltip=\"Subtitle\")\n",
        "\n",
        "SavePathYT = widgets.Dropdown(options=[\"/content\", \"/content/Downloads\"])\n",
        "\n",
        "AudioOnly = widgets.ToggleButton(value=False, description=\"Audio Only\", button_style=\"\", tooltip=\"Audio Only\")\n",
        "\n",
        "Resolution = widgets.Select(options=[\"Highest\", \"4K\", \"1440p\", \"1080p\", \"720p\", \"480p\", \"360p\", \"240p\", \"144p\"], value=\"Highest\")\n",
        "\n",
        "Extension = widgets.Select(options=[\"mkv\", \"webm\"], value=\"mkv\")\n",
        "\n",
        "UsernameYT = widgets.Text(placeholder=\"Username\")\n",
        "\n",
        "PasswordYT = widgets.Text(placeholder=\"Password\")\n",
        "\n",
        "SecAuth = widgets.Text(placeholder=\"2nd Factor Authentication\")\n",
        "\n",
        "VideoPW = widgets.Text(placeholder=\"Video Password\")\n",
        "\n",
        "GEOBypass = widgets.Dropdown(options=[\"Disable\", \"Hide\", \"AD\", \"AE\", \"AF\", \"AG\", \"AI\", \"AL\", \"AM\", \"AO\", \"AQ\", \"AR\", \"AS\", \"AT\", \"AU\", \"AW\", \"AX\", \"AZ\", \"BA\", \"BB\", \"BD\", \"BE\", \"BF\", \"BG\", \"BH\", \"BI\", \"BJ\", \"BL\", \"BM\", \"BN\", \"BO\", \"BQ\", \"BR\", \"BS\", \"BT\", \"BV\", \"BW\", \"BY\", \"BZ\", \"CA\", \"CC\", \"CD\", \"CF\", \"CG\", \"CH\", \"CI\", \"CK\", \"CL\", \"CM\", \"CN\", \"CO\", \"CR\", \"CU\", \"CV\", \"CW\", \"CX\", \"CY\", \"CZ\", \"DE\", \"DJ\", \"DK\", \"DM\", \"DO\", \"DZ\", \"EC\", \"EE\", \"EG\", \"EH\", \"ER\", \"ES\", \"ET\", \"FI\", \"FJ\", \"FK\", \"FM\", \"FO\", \"FR\", \"GA\", \"GB\", \"GD\", \"GE\", \"GF\", \"GG\", \"GH\", \"GI\", \"GL\", \"GM\", \"GN\", \"GP\", \"GQ\", \"GR\", \"GS\", \"GT\", \"GU\", \"GW\", \"GY\", \"HK\", \"HM\", \"HN\", \"HR\", \"HT\", \"HU\", \"ID\", \"IE\", \"IL\", \"IM\", \"IN\", \"IO\", \"IQ\", \"IR\", \"IS\", \"IT\", \"JE\", \"JM\", \"JO\", \"JP\", \"KE\", \"KG\", \"KH\", \"KI\", \"KM\", \"KN\", \"KP\", \"KR\", \"KW\", \"KY\", \"KZ\", \"LA\", \"LB\", \"LC\", \"LI\", \"LK\", \"LR\", \"LS\", \"LT\", \"LU\", \"LV\", \"LY\", \"MA\", \"MC\", \"MD\", \"ME\", \"MF\", \"MG\", \"MH\", \"MK\", \"ML\", \"MM\", \"MN\", \"MO\", \"MP\", \"MQ\", \"MR\", \"MS\", \"MT\", \"MU\", \"MV\", \"MW\", \"MX\", \"MY\", \"MZ\", \"NA\", \"NC\", \"NE\", \"NF\", \"NG\", \"NI\", \"NL\", \"NO\", \"NP\", \"NR\", \"NU\", \"NZ\", \"OM\", \"PA\", \"PE\", \"PF\", \"PG\", \"PH\", \"PK\", \"PL\", \"PM\", \"PN\", \"PR\", \"PS\", \"PT\", \"PW\", \"PY\", \"QA\", \"RE\", \"RO\", \"RS\", \"RU\", \"RW\", \"SA\", \"SB\", \"SC\", \"SD\", \"SE\", \"SG\", \"SH\", \"SI\", \"SJ\", \"SK\", \"SL\", \"SM\", \"SN\", \"SO\", \"SR\", \"SS\", \"ST\", \"SV\", \"SX\", \"SY\", \"SZ\", \"TC\", \"TD\", \"TF\", \"TG\", \"TH\", \"TJ\", \"TK\", \"TL\", \"TM\", \"TN\", \"TO\", \"TR\", \"TT\", \"TV\", \"TW\", \"TZ\", \"UA\", \"UG\", \"UM\", \"US\", \"UY\", \"UZ\", \"VA\", \"VC\", \"VE\", \"VG\", \"VI\", \"VN\", \"VU\", \"WF\", \"WS\", \"YE\", \"YT\", \"ZA\", \"ZM\", \"ZW\"])\n",
        "\n",
        "ProxyYT = widgets.Text(placeholder=\"Proxy URL\")\n",
        "\n",
        "MinSleep = widgets.BoundedIntText(value=0, min=0, max=300, step=1, description=\"Min:\")\n",
        "\n",
        "MaxSleep = widgets.BoundedIntText(value=0, min=0, max=300, step=1, description=\"Max:\")\n",
        "\n",
        "ExtraArg = widgets.Text(placeholder=\"Extra Arguments\")\n",
        "\n",
        "class MakeButton(object):\n",
        "  def __init__(self, title, callback, style):\n",
        "    self._title = title\n",
        "    self._callback = callback\n",
        "    self._style = style\n",
        "  def _repr_html_(self):\n",
        "    callback_id = 'button-' + str(uuid.uuid4())\n",
        "    output.register_callback(callback_id, self._callback)\n",
        "    if self._style != \"\":\n",
        "      style_html = \"p-Widget jupyter-widgets jupyter-button widget-button mod-\" + self._style\n",
        "    else:\n",
        "      style_html = \"p-Widget jupyter-widgets jupyter-button widget-button\"\n",
        "    template = \"\"\"<button class=\"{style_html}\" id=\"{callback_id}\">{title}</button>\n",
        "        <script>\n",
        "          document.querySelector(\"#{callback_id}\").onclick = (e) => {{\n",
        "            google.colab.kernel.invokeFunction('{callback_id}', [], {{}})\n",
        "            e.preventDefault();\n",
        "          }};\n",
        "        </script>\"\"\"\n",
        "    html = template.format(title=self._title, callback_id=callback_id, style_html=style_html)\n",
        "    return html\n",
        "  \n",
        "def MakeLabel(description, button_style):\n",
        "  return widgets.Button(description=description, disabled=True, button_style=button_style)\n",
        "\n",
        "def upload_archive():\n",
        "  if ask_yes_no(\"Do you already have an archive file? (y/n)\", default=\"\", interrupt=\"\"):\n",
        "    try:\n",
        "      display(HTML(\"<h2 style=\\\"font-family:Trebuchet MS;color:#4f8bd6;\\\">Please upload an archive from your computer.</h2><br>\"))\n",
        "      UploadConfig = files.upload().keys()\n",
        "      clear_output(wait=True)\n",
        "      if len(UploadConfig) == 0:\n",
        "        return display(HTML(\"<center><h2 style=\\\"font-family:Trebuchet MS;color:#ce2121;\\\">File upload has been cancelled during upload file.</h2><br></center>\"))\n",
        "      elif len(UploadConfig) == 1:\n",
        "        for fn in UploadConfig:\n",
        "          if os.path.isfile(\"/content/\" + fn):\n",
        "            get_ipython().system_raw(\"mv -f \" + \"\\\"\" + fn + \"\\\" /root/.youtube-dl.txt && chmod 666 /root/.youtube-dl.txt\")\n",
        "            AudioOnly.observe(AudioOnlyChange)\n",
        "            Subtitle.observe(SubtitleChange)\n",
        "            AudioQ.observe(AudioQChange)\n",
        "            ShowYT()\n",
        "          else:\n",
        "            return display(HTML(\"<center><h2 style=\\\"font-family:Trebuchet MS;color:#ce2121;\\\">File upload has been failed during upload file.</h2><br></center>\"))\n",
        "      else:\n",
        "        for fn in UploadConfig:\n",
        "          get_ipython().system_raw(\"rm -f \" + \"\\\"\" + fn + \"\\\"\")\n",
        "        return display(HTML(\"<center><h2 style=\\\"font-family:Trebuchet MS;color:#ce2121;\\\">Please uploading only one file at a time.</h2><br></center>\"))\n",
        "    except:\n",
        "      clear_output(wait=True)\n",
        "      return display(HTML(\"<center><h2 style=\\\"font-family:Trebuchet MS;color:#ce2121;\\\">Error occurred during upload file.</h2><br></center>\"))\n",
        "  else:\n",
        "    get_ipython().system_raw(\"touch '/root/.youtube-dl.txt'\")\n",
        "    AudioOnly.observe(AudioOnlyChange)\n",
        "    Subtitle.observe(SubtitleChange)\n",
        "    AudioQ.observe(AudioQChange)\n",
        "    ShowYT()\n",
        "\n",
        "def RefreshPathYT():\n",
        "  if os.path.exists(\"/content/drive/\"):\n",
        "    if os.path.exists(\"/content/drive/Shared drives/\"):\n",
        "      SavePathYT.options = [\"/content\", \"/content/Downloads\", \"/content/drive/My Drive\"] + glob(\"/content/drive/My Drive/*/\") + glob(\"/content/drive/Shared drives/*/\")\n",
        "    else:\n",
        "      SavePathYT.options = [\"/content\", \"/content/Downloads\", \"/content/drive/My Drive\"] + glob(\"/content/drive/My Drive/*/\")\n",
        "  else:\n",
        "    SavePathYT.options = [\"/content\", \"/content/Downloads\"]\n",
        "\n",
        "def AudioOnlyChange(change):\n",
        "  if change[\"type\"] == \"change\" and change[\"new\"]:\n",
        "    VideoQ.disabled = True\n",
        "    Subtitle.disabled = True\n",
        "    if Subtitle.value:\n",
        "      Subtitle.button_style = \"info\"\n",
        "    else:\n",
        "      Subtitle.button_style = \"\"\n",
        "    Resolution.disabled = True\n",
        "    Extension.options = [\"best\", \"aac\", \"flac\", \"mp3\", \"m4a\", \"opus\", \"vorbis\", \"wav\"]\n",
        "    Extension.value = \"best\"\n",
        "    AudioOnly.button_style = \"info\"\n",
        "  elif change[\"type\"] == \"change\" and change[\"new\"] == False:\n",
        "    VideoQ.disabled = False\n",
        "    Subtitle.disabled = False\n",
        "    if Subtitle.value:\n",
        "      Subtitle.button_style = \"info\"\n",
        "    else:\n",
        "      Subtitle.button_style = \"\"\n",
        "    Resolution.disabled = False\n",
        "    if AudioQ.value == \"Best Quality (Opus)\":\n",
        "      Extension.options = [\"mkv\", \"webm\"]\n",
        "    else:\n",
        "      Extension.options = [\"mkv\", \"mp4\", \"webm\"]\n",
        "    Extension.value = \"mkv\"\n",
        "    AudioOnly.button_style = \"\"\n",
        "\n",
        "def SubtitleChange(change):\n",
        "  if change[\"type\"] == \"change\" and change[\"new\"]:\n",
        "    Subtitle.button_style = \"info\"\n",
        "  elif change[\"type\"] == \"change\" and change[\"new\"] == False:\n",
        "    Subtitle.button_style = \"\"\n",
        "\n",
        "def AudioQChange(change):\n",
        "  if change[\"type\"] == \"change\" and change[\"new\"] == \"Best Quality (Opus)\":\n",
        "    Extension.options = [\"mkv\", \"webm\"]\n",
        "    Extension.value = \"mkv\"\n",
        "  elif change[\"type\"] == \"change\" and change[\"new\"] == \"Best Compatibility (M4A)\":\n",
        "    Extension.options = [\"mkv\", \"mp4\", \"webm\"]\n",
        "    Extension.value = \"mkv\"\n",
        "\n",
        "def ShowYT():\n",
        "  clear_output(wait=True)\n",
        "  RefreshPathYT()\n",
        "  display(widgets.HBox([widgets.VBox([widgets.HTML(\"<b style=\\\"color:#888888;\\\">Link:</b>\"), Links,\n",
        "                                      widgets.HTML(\"<b style=\\\"color:#888888;\\\">For website that require an account:</b>\"), UsernameYT, PasswordYT, SecAuth, VideoPW,\n",
        "                                      widgets.HTML(\"<b><a href=\\\"https://en.wikipedia.org/wiki/ISO_3166-1_alpha-2#Officially_assigned_code_elements\\\" target=\\\"_blank\\\">GEO Bypass Country:</a></b>\"), GEOBypass,\n",
        "                                      widgets.HTML(\"<b style=\\\"color:#888888;\\\">Proxy:</b>\"), ProxyYT,\n",
        "                                      widgets.HTML(\"<b style=\\\"color:#888888;\\\">Sleep Interval (second):</b>\"), MinSleep, MaxSleep]),\n",
        "                        widgets.VBox([widgets.HTML(\"<b style=\\\"color:#888888;\\\">Video Quality:</b>\"), VideoQ, widgets.HTML(\"<b style=\\\"color:#888888;\\\">Resolution:</b>\"), Resolution,\n",
        "                                      widgets.HTML(\"<b style=\\\"color:#888888;\\\">Audio Quality:</b>\"), AudioQ, widgets.HTML(\"<b style=\\\"color:#888888;\\\">Extension:</b>\"), Extension,\n",
        "                                      widgets.HTML(\"<b style=\\\"color:#888888;\\\">Extra Options:</b>\"), widgets.HBox([Subtitle, AudioOnly]),\n",
        "                                      widgets.HTML(\"<b style=\\\"color:#888888;\\\">Extra Arguments:</b>\"), ExtraArg])]), HTML(\"<h4 style=\\\"color:#888888;\\\">Save Location:</h4>\"),\n",
        "          SavePathYT, MakeButton(\"Refresh\", RefreshPathYT, \"\"))\n",
        "  if not os.path.exists(\"/content/drive/\"):\n",
        "    display(HTML(\"*If you want to save in Google Drive please run the cell below.\"))\n",
        "  display(HTML(\"<br>\"), MakeButton(\"Download\", DownloadYT, \"info\"))\n",
        "\n",
        "def DownloadYT():\n",
        "  if Links.value.strip():\n",
        "    Count = 0\n",
        "    Total = str(len(Links.value.splitlines()))\n",
        "    # Account Check\n",
        "    if UsernameYT.value.strip() and PasswordYT.value.strip():\n",
        "      accountC = \"--username \\\"\" + UsernameYT.value + \"\\\" --password \\\"\" + PasswordYT.value + \"\\\"\"\n",
        "    else:\n",
        "      accountC = \"\"\n",
        "    if SecAuth.value.strip():\n",
        "      secauthC = \"-2 \" + SecAuth.value\n",
        "    else:\n",
        "      secauthC = \"\"\n",
        "    if VideoPW.value.strip():\n",
        "      videopwC = \"--video-password \" + VideoPW.value\n",
        "    else:\n",
        "      videopwC = \"\"\n",
        "    # Proxy\n",
        "    if ProxyYT.value.strip():\n",
        "      proxyytC = \"--proxy \" + ProxyYT.value\n",
        "    else:\n",
        "      proxyytC = \"\"\n",
        "    # GEO Bypass\n",
        "    if GEOBypass.value == \"Disable\":\n",
        "      geobypass = \"\"\n",
        "    elif GEOBypass.value == \"Hide\":\n",
        "      geobypass = \"--geo-bypass\"\n",
        "    else:\n",
        "      geobypass = \"--geo-bypass-country \" + GEOBypass.value\n",
        "    # Video Quality\n",
        "    if VideoQ.value == \"Best Quality (VP9 upto 4K)\":\n",
        "      videoqC = \"webm\"\n",
        "    else:\n",
        "      videoqC = \"mp4\"\n",
        "    # Audio Quality\n",
        "    if AudioQ.value == \"Best Quality (Opus)\":\n",
        "      audioqC = \"webm\"\n",
        "    else:\n",
        "      audioqC = \"m4a\"\n",
        "    # Audio Only Check\n",
        "    if AudioOnly.value:\n",
        "      subtitleC = \"\"\n",
        "      thumbnailC = \"\"\n",
        "      extC = \"-x --audio-quality 0 --audio-format \" + Extension.value\n",
        "      codecC = \"bestaudio[ext=\" + audioqC + \"]/bestaudio/best\"\n",
        "    else:\n",
        "      if Subtitle.value:\n",
        "        subtitleC = \"--all-subs --convert-subs srt --embed-subs\"\n",
        "      else:\n",
        "        subtitleC = \"\"\n",
        "      if Extension.value == \"mp4\":\n",
        "        thumbnailC = \"--embed-thumbnail\"\n",
        "      else:\n",
        "        thumbnailC = \"\"\n",
        "      extC = \"--merge-output-format \" + Extension.value\n",
        "      if Resolution.value == \"Highest\":\n",
        "        codecC = \"bestvideo[ext=\" + videoqC + \"]+bestaudio[ext=\" + audioqC + \"]/bestvideo+bestaudio/best\"\n",
        "      else:\n",
        "        codecC = \"bestvideo[ext=\" + videoqC + \",height<=\" + Resolution.value.replace(\"4K\", \"2160\").replace(\"p\", \"\") + \"]+bestaudio[ext=\" + audioqC + \"]/bestvideo[height<=\" + Resolution.value.replace(\"4K\", \"2160\").replace(\"p\", \"\") + \"]+bestaudio/bestvideo+bestaudio/best\"\n",
        "    # Archive\n",
        "    if os.path.isfile(\"/root/.youtube-dl.txt\"):\n",
        "      archiveC = \"--download-archive \\\"/root/.youtube-dl.txt\\\"\"\n",
        "    else:\n",
        "      archiveC = \"\"\n",
        "    # Sleep Interval\n",
        "    if MinSleep.value > 0 and MaxSleep.value > 0:\n",
        "      minsleepC = \"--min-sleep-interval \" + MinSleep.value\n",
        "      maxsleepC = \"--max-sleep-interval \" + MaxSleep.value\n",
        "    else:\n",
        "      minsleepC = \"\"\n",
        "      maxsleepC = \"\"\n",
        "    # Extra Arguments\n",
        "    extraargC = ExtraArg.value\n",
        "    for Link in Links.value.splitlines():\n",
        "      clear_output(wait=True)\n",
        "      Count += 1\n",
        "      display(HTML(\"<h3 style=\\\"font-family:Trebuchet MS;color:#4f8bd6;\\\">Processing link \" + str(Count) + \" out of \" + Total + \"</h3>\"))\n",
        "      if \"youtube.com\" in Link or \"youtu.be\" in Link:\n",
        "        display(HTML(\"<h3 style=\\\"font-family:Trebuchet MS;color:#4f8bd6;\\\">Currently downloading...</h3><br>\"), YouTubeVideo(Link, width=640, height=360), HTML(\"<br>\"))\n",
        "      else:\n",
        "        display(HTML(\"<h3 style=\\\"font-family:Trebuchet MS;color:#4f8bd6;\\\">Currently downloading <a href=\\\"\" + Link + \"\\\">\" + Link + \"</a></h3><br>\"))\n",
        "      if (\"youtube.com\" in Link or \"youtu.be\" in Link) and \"list=\" in Link:\n",
        "        !youtube-dl -i --no-warnings --yes-playlist --add-metadata $accountC $secauthC $videopwC $minsleepC $maxsleepC $geobypass $proxyytC $extC $thumbnailC $subtitleC $archiveC $extraargC -f \"$codecC\" -o \"/root/.YouTube-DL/%(playlist)s/%(playlist_index)s - %(title)s.%(ext)s\" \"$Link\"\n",
        "      else:\n",
        "        !youtube-dl -i --no-warnings --yes-playlist --add-metadata $accountC $secauthC $videopwC $minsleepC $maxsleepC $geobypass $proxyytC $extC $thumbnailC $subtitleC $archiveC $extraargC -f \"$codecC\" -o \"/root/.YouTube-DL/%(title)s.%(ext)s\" \"$Link\"\n",
        "      if not os.path.exists(SavePathYT.value):\n",
        "        get_ipython().system_raw(\"mkdir -p -m 666 \" + SavePathYT.value)\n",
        "      get_ipython().system_raw(\"mv /root/.YouTube-DL/* '\" + SavePathYT.value + \"/'\")\n",
        "    # Archive Download\n",
        "    if os.path.isfile(\"/root/.youtube-dl.txt\"):\n",
        "      files.download(\"/root/.youtube-dl.txt\")\n",
        "    ShowYT()\n",
        "\n",
        "if not os.path.isfile(\"/usr/local/bin/youtube-dl\"):\n",
        "  get_ipython().system_raw(\"rm -rf /content/sample_data/ && mkdir -p -m 666 /root/.YouTube-DL/ && apt-get install atomicparsley && curl -L https://yt-dl.org/downloads/latest/youtube-dl -o /usr/local/bin/youtube-dl && chmod a+rx /usr/local/bin/youtube-dl\")\n",
        "if Archive:\n",
        "  upload_archive()\n",
        "else:\n",
        "  AudioOnly.observe(AudioOnlyChange)\n",
        "  Subtitle.observe(SubtitleChange)\n",
        "  AudioQ.observe(AudioQChange)\n",
        "  ShowYT()"
      ],
      "execution_count": null,
      "outputs": []
    },
    {
      "cell_type": "markdown",
      "metadata": {
        "id": "QlsUJhNwyeV3"
      },
      "source": [
        "# **9**. RcloneLab\n",
        "# <img src='https://szyha.github.io/RcloneLabArchive/img/title_rclonelab.png' height=\"56\" alt=\"RcloneLab\"/>"
      ]
    },
    {
      "cell_type": "code",
      "metadata": {
        "id": "_RezFPjUJ9Yq",
        "cellView": "form"
      },
      "source": [
        "#@markdown <h3>← Click Here Before Using RcloneLab</h3>\n",
        "#@markdown <h5><i>Note: This cell will ask for your</i> <code>rclone.conf</code> <i>file</i></h5>\n",
        "Setup_Time_Zone = False #@param {type:\"boolean\"}\n",
        "\n",
        "import os; from google.colab import files; from IPython.display import HTML, clear_output\n",
        "\n",
        "def upload_conf():\n",
        "  try:\n",
        "    display(HTML(\"<h2 style=\\\"font-family:Trebuchet MS;color:#4f8bd6;\\\">Please upload the config file of rclone (rclone.conf) from your computer.</h2><br>\"))\n",
        "    UploadConfig = files.upload().keys()\n",
        "    clear_output()\n",
        "    if len(UploadConfig) == 0:\n",
        "      return display(HTML(\"<center><h2 style=\\\"font-family:Trebuchet MS;color:#ce2121;\\\">File upload has been cancelled during upload file.</h2><br></center>\"))\n",
        "    elif len(UploadConfig) == 1:\n",
        "      for fn in UploadConfig:\n",
        "        if os.path.isfile(\"/content/\" + fn) == True:\n",
        "          get_ipython().system_raw(\"mv -f \" + \"\\\"\" + fn + \"\\\" /root/.rclone.conf && chmod 666 /root/.rclone.conf\")\n",
        "          if Setup_Time_Zone == True:\n",
        "            !sudo dpkg-reconfigure tzdata\n",
        "            clear_output()\n",
        "          if os.path.isfile(\"/usr/bin/rclone\") == True:\n",
        "            return display(HTML(\"<center><h2 style=\\\"font-family:Trebuchet MS;color:#00b24c;\\\">Config has been changed.</h2><br></center>\"))\n",
        "          else:\n",
        "            get_ipython().system_raw(\"rm -rf /content/sample_data/ && curl -s https://rclone.org/install.sh | sudo bash\")\n",
        "            return display(HTML(\"<center><h2 style=\\\"font-family:Trebuchet MS;color:#4f8bd6;\\\">Installation has been successfully completed.</h2><br></center>\"))\n",
        "        else:\n",
        "          return display(HTML(\"<center><h2 style=\\\"font-family:Trebuchet MS;color:#ce2121;\\\">File upload has been failed during upload file.</h2><br></center>\"))\n",
        "    else:\n",
        "      for fn in UploadConfig:\n",
        "        get_ipython().system_raw(\"rm -f \" + \"\\\"\" + fn + \"\\\"\")\n",
        "      return display(HTML(\"<center><h2 style=\\\"font-family:Trebuchet MS;color:#ce2121;\\\">Please uploading only one file at a time.</h2><br></center>\"))\n",
        "  except:\n",
        "    clear_output()\n",
        "    return display(HTML(\"<center><h2 style=\\\"font-family:Trebuchet MS;color:#ce2121;\\\">Error occurred during upload file.</h2><br></center>\"))\n",
        "\n",
        "upload_conf()"
      ],
      "execution_count": null,
      "outputs": []
    },
    {
      "cell_type": "code",
      "metadata": {
        "id": "RIr3CXMAGNdy",
        "cellView": "form"
      },
      "source": [
        "#@markdown <h3>← Run This Cell to Use RcloneLab</h3>\n",
        "# ============================= FORM ============================= #\n",
        "Mode = \"Config\" #@param [\"Config\", \"Copy\", \"Move\", \"Mount\", \"Sync\", \"Checker\", \"Deduplicate\", \"Remove Empty Directories\", \"Empty Trash\", \"qBittorrent\"]\n",
        "Compare = \"Size & Mod-Time\" #@param [\"Size & Mod-Time\", \"Size & Checksum\", \"Only Mod-Time\", \"Only Size\", \"Only Checksum\"]\n",
        "Source = \"\" #@param {type:\"string\"}\n",
        "Destination = \"\\xDE\" #@param {type:\"string\"}\n",
        "Transfers = 20 #@param {type:\"slider\", min:1, max:20, step:1}\n",
        "Checkers = 20 #@param {type:\"slider\", min:1, max:20, step:1}\n",
        "#@markdown ---\n",
        "\n",
        "#@markdown <center><h3><font color=\"#3399ff\"><b>⚙️ Global Configuration ⚙️</b></font></h3></center>\n",
        "Simple_Ouput = True #@param {type:\"boolean\"}\n",
        "Skip_files_that_are_newer_on_the_destination = False #@param {type:\"boolean\"}\n",
        "Skip_all_files_that_exist = False #@param {type:\"boolean\"}\n",
        "Do_not_cross_filesystem_boundaries = False\n",
        "Do_not_update_modtime_if_files_are_identical = False #@param {type:\"boolean\"}\n",
        "Large_amount_of_files_optimization = False\n",
        "Google_Drive_optimization = False #@param {type:\"boolean\"}\n",
        "Google_Drive_server_side_copy = False #@param {type:\"boolean\"}\n",
        "Dry_Run = False #@param {type:\"boolean\"}\n",
        "Output_Log_File = \"OFF\" #@param [\"OFF\", \"NOTICE\", \"INFO\", \"ERROR\", \"DEBUG\"]\n",
        "Extra_Arguments = \"\" #@param {type:\"string\"}\n",
        "\n",
        "#@markdown <center><h3><font color=\"#3399ff\"><b>↪️ Sync Configuration ↩️</b></font></h3></center>\n",
        "Sync_Mode = \"Delete during transfer\" #@param [\"Delete during transfer\", \"Delete before transfering\", \"Delete after transfering\"]\n",
        "Track_Renames = False #@param {type:\"boolean\"}\n",
        "\n",
        "#@markdown <center><h3><font color=\"#3399ff\"><b>💞 Deduplicate Configuration 💞</b></font></h3></center>\n",
        "Deduplicate_Mode = \"Interactive\" #@param [\"Interactive\", \"Skip\", \"First\", \"Newest\", \"Oldest\", \"Largest\", \"Rename\"]\n",
        "Deduplicate_Use_Trash = True #@param {type:\"boolean\"}\n",
        "# ================================================================ #\n",
        "\n",
        "import os, psutil; from IPython.display import HTML, clear_output; from IPython.utils.io import ask_yes_no\n",
        "\n",
        "def CheckProcess(process, command):\n",
        "  for pid in psutil.pids():\n",
        "    try:\n",
        "      p = psutil.Process(pid)\n",
        "      if process in p.name():\n",
        "        for arg in p.cmdline():\n",
        "          if command in str(arg):  \n",
        "            return True\n",
        "          else:\n",
        "            pass\n",
        "      else:\n",
        "        pass\n",
        "    except:\n",
        "      continue\n",
        "\n",
        "### Variable Declaration\n",
        "\n",
        "# Optimized for Google Colaboratory\n",
        "if Google_Drive_optimization:\n",
        "  bufferC = \"--buffer-size 128M\"\n",
        "else:\n",
        "  bufferC = \"--buffer-size 192M\"\n",
        "\n",
        "if Compare == \"Size & Checksum\":\n",
        "  compareC = \"-c\"\n",
        "elif Compare == \"Only Mod-Time\":\n",
        "  compareC = \"--ignore-size\"\n",
        "elif Compare == \"Only Size\":\n",
        "  compareC = \"--size-only\"\n",
        "elif Compare == \"Only Checksum\":\n",
        "  compareC = \"-c --ignore-size\"\n",
        "else:\n",
        "  compareC = \"\"\n",
        "\n",
        "transfersC = \"--transfers \"+str(Transfers)\n",
        "checkersC = \"--checkers \"+str(Checkers)\n",
        "\n",
        "if Skip_files_that_are_newer_on_the_destination:\n",
        "  skipnewC = \"-u\"\n",
        "else:\n",
        "  skipnewC = \"\"\n",
        "  \n",
        "if Skip_all_files_that_exist:\n",
        "  skipexistC = \"--ignore-existing\"\n",
        "else:\n",
        "  skipexistC = \"\"\n",
        "  \n",
        "if Do_not_cross_filesystem_boundaries:\n",
        "  nocrossfilesystemC = \"--one-file-system\"\n",
        "else:\n",
        "  nocrossfilesystemC = \"\"\n",
        "  \n",
        "if Do_not_update_modtime_if_files_are_identical:\n",
        "  noupdatemodtimeC = \"--no-update-modtime\"\n",
        "else:\n",
        "  noupdatemodtimeC = \"\"\n",
        "\n",
        "if Large_amount_of_files_optimization:\n",
        "  filesoptimizeC = \"--fast-list\"\n",
        "else:\n",
        "  filesoptimizeC = \"\"\n",
        "  \n",
        "if Google_Drive_optimization:\n",
        "  driveoptimizeC = \"--drive-chunk-size 128M --drive-acknowledge-abuse --drive-keep-revision-forever\"\n",
        "else:\n",
        "  driveoptimizeC = \"\"\n",
        "\n",
        "if Google_Drive_server_side_copy:\n",
        "  drivecopyC = \"--drive-server-side-across-configs=true\"\n",
        "elif Google_Drive_optimization:\n",
        "  drivecopyC = \"--disable copy\"\n",
        "\n",
        "if Dry_Run:\n",
        "  dryrunC = \"-n\"\n",
        "else:\n",
        "  dryrunC = \"\"\n",
        "  \n",
        "if Output_Log_File != \"OFF\":\n",
        "  statsC = \"--log-file=/root/.rclone_log/rclone_log.txt\"\n",
        "else:\n",
        "  if Simple_Ouput:\n",
        "    statsC = \"-v --stats-one-line --stats=5s\"\n",
        "  else:\n",
        "    statsC = \"-v --stats=5s\"\n",
        "  \n",
        "if Output_Log_File == \"INFO\":\n",
        "  loglevelC = \"--log-level INFO\"\n",
        "elif Output_Log_File == \"ERROR\":\n",
        "  loglevelC = \"--log-level ERROR\"\n",
        "elif Output_Log_File == \"DEBUG\":\n",
        "  loglevelC = \"--log-level DEBUG\"\n",
        "else:\n",
        "  loglevelC = \"\"\n",
        "\n",
        "if Sync_Mode == \"Delete during transfer\":\n",
        "  syncmodeC = \"--delete-during\"\n",
        "elif Sync_Mode == \"Delete before transfering\":\n",
        "  syncmodeC = \"--delete-before\"\n",
        "elif Sync_Mode == \"Delete after transfering\":\n",
        "  syncmodeC = \"--delete-after\"\n",
        "  \n",
        "if Track_Renames:\n",
        "  trackrenamesC = \"--track-renames\"\n",
        "else:\n",
        "  trackrenamesC = \"\"\n",
        "  \n",
        "if Deduplicate_Mode == \"Interactive\":\n",
        "  deduplicateC = \"interactive\"\n",
        "elif Deduplicate_Mode == \"Skip\":\n",
        "  deduplicateC = \"skip\"\n",
        "elif Deduplicate_Mode == \"First\":\n",
        "  deduplicateC = \"first\"\n",
        "elif Deduplicate_Mode == \"Newest\":\n",
        "  deduplicateC = \"newest\"\n",
        "elif Deduplicate_Mode == \"Oldest\":\n",
        "  deduplicateC = \"oldest\"\n",
        "elif Deduplicate_Mode == \"Largest\":\n",
        "  deduplicateC = \"largest\"\n",
        "elif Deduplicate_Mode == \"Rename\":\n",
        "  deduplicateC = \"rename\"\n",
        "  \n",
        "if Deduplicate_Use_Trash:\n",
        "  deduplicatetrashC = \"\"\n",
        "else:\n",
        "  deduplicatetrashC = \"--drive-use-trash=false\"\n",
        "  \n",
        "### rclone Execution\n",
        "\n",
        "if Output_Log_File != \"OFF\" and Mode != \"Config\":\n",
        "  get_ipython().system_raw(\"mkdir -p -m 666 /root/.rclone_log/\")\n",
        "  display(HTML(\"<center><h2 style=\\\"font-family:Trebuchet MS;color:#ce2121;\\\">Logging enables, rclone will not output log through the terminal, please wait until finished.</h2><br></center>\"))\n",
        "\n",
        "if Mode == \"Config\":\n",
        "  !rclone --config=/root/.rclone.conf config\n",
        "elif Mode == \"Copy\":\n",
        "  !rclone --config=/root/.rclone.conf copy \"$Source\" \"$Destination\" $transfersC $checkersC $statsC $loglevelC $compareC $skipnewC $skipexistC $nocrossfilesystemC $noupdatemodtimeC $bufferC $filesoptimizeC $driveoptimizeC $drivecopyC $dryrunC $Extra_Arguments\n",
        "elif Mode == \"Move\":\n",
        "  !rclone --config=/root/.rclone.conf move \"$Source\" \"$Destination\" $transfersC $checkersC $statsC $loglevelC --delete-empty-src-dirs $compareC $skipnewC $skipexistC $nocrossfilesystemC $noupdatemodtimeC $bufferC $filesoptimizeC $driveoptimizeC $drivecopyC $dryrunC $Extra_Arguments\n",
        "elif Mode == \"Mount\":\n",
        "  try:\n",
        "    if not CheckProcess(\"rclone\", \"/content/\" + Source.split(\":\")[0] + \"/\"):\n",
        "      if not os.path.exists(\"/content/\" + Source.split(\":\")[0] + \"/\"):\n",
        "        get_ipython().system_raw(\"mkdir -p -m 666 '/content/\" + Source.split(\":\")[0] + \"/'\")\n",
        "      get_ipython().system_raw(\"rclone --config=/root/.rclone.conf mount '$Source' '/content/\" + Source.split(\":\")[0] + \"/' $loglevelC $noupdatemodtimeC $bufferC $filesoptimizeC --drive-chunk-size 128M --drive-acknowledge-abuse --drive-keep-revision-forever $Extra_Arguments &\")\n",
        "  except:\n",
        "    pass\n",
        "elif Mode == \"Sync\":\n",
        "  !rclone --config=/root/.rclone.conf sync \"$Source\" \"$Destination\" $transfersC $checkersC $statsC $loglevelC $syncmodeC $trackrenamesC $compareC $skipnewC $skipexistC $nocrossfilesystemC $noupdatemodtimeC $bufferC $filesoptimizeC $driveoptimizeC $drivecopyC $dryrunC $Extra_Arguments\n",
        "elif Mode == \"Checker\":\n",
        "  !rclone --config=/root/.rclone.conf check \"$Source\" \"$Destination\" $checkersC $statsC $loglevelC $compareC $skipnewC $skipexistC $nocrossfilesystemC $noupdatemodtimeC $bufferC $filesoptimizeC $driveoptimizeC $drivecopyC $dryrunC $Extra_Arguments\n",
        "elif Mode == \"Deduplicate\":\n",
        "  !rclone --config=/root/.rclone.conf dedupe \"$Source\" $checkersC $statsC $loglevelC --dedupe-mode $deduplicateC $deduplicatetrashC $compareC $skipnewC $skipexistC $nocrossfilesystemC $noupdatemodtimeC $bufferC $filesoptimizeC $driveoptimizeC $drivecopyC $dryrunC $Extra_Arguments\n",
        "elif Mode == \"Remove Empty Directories\":\n",
        "  !rclone --config=/root/.rclone.conf rmdirs \"$Source\" $statsC $loglevelC $dryrunC $Extra_Arguments\n",
        "elif Mode == \"Empty Trash\":\n",
        "  !rclone --config=/root/.rclone.conf cleanup \"$Source\" $statsC $loglevelC $dryrunC $Extra_Arguments\n",
        "elif Mode == \"qBittorrent\":\n",
        "  if Source == \"\":\n",
        "    !chmod -R 666 /content/qBittorrent/ && rclone --config=/root/.rclone.conf move \"/content/qBittorrent/\" \"$Destination\" $transfersC $checkersC $statsC $loglevelC --delete-empty-src-dirs --exclude **/.unwanted/ $compareC $skipnewC $skipexistC $nocrossfilesystemC $noupdatemodtimeC $bufferC $filesoptimizeC $driveoptimizeC $drivecopyC $dryrunC $Extra_Arguments\n",
        "\n",
        "### Log Output\n",
        "  \n",
        "if Output_Log_File != \"OFF\" and Mode != \"Config\" and os.path.isfile(\"/root/.rclone_log/rclone_log.txt\"):\n",
        "  ### Rename log file and output settings.\n",
        "  get_ipython().system_raw(\"mv /root/.rclone_log/rclone_log.txt /root/.rclone_log/rclone_log_$(date +%Y-%m-%d_%H.%M.%S).txt\")\n",
        "  with open(\"/root/.rclone_log/\" + Mode + \"_settings.txt\", \"w\") as f:\n",
        "    f.write(\"Mode: \" + Mode + \\\n",
        "            \"\\nCompare: \" + Compare + \\\n",
        "            \"\\nSource: \\\"\" + Source + \\\n",
        "            \"\\\"\\nDestination: \\\"\" + Destination + \\\n",
        "            \"\\\"\\nTransfers: \" + str(Transfers) + \\\n",
        "            \"\\nCheckers: \" + str(Checkers) + \\\n",
        "            \"\\nSkip files that are newer on the destination: \" + str(Skip_files_that_are_newer_on_the_destination) + \\\n",
        "            \"\\nSkip all files that exist: \" + str(Skip_all_files_that_exist) + \\\n",
        "            \"\\nDo not cross filesystem boundaries: \" + str(Do_not_cross_filesystem_boundaries) + \\\n",
        "            \"\\nDo not update modtime if files are identical: \" + str(Do_not_update_modtime_if_files_are_identical) + \\\n",
        "            \"\\nDry-Run: \" + str(Dry_Run) + \\\n",
        "            \"\\nOutput Log Level: \" + Output_Log_File + \\\n",
        "            \"\\nExtra Arguments: \\\"\" + Extra_Arguments + \\\n",
        "            \"\\\"\\nSync Moden: \" + Sync_Mode + \\\n",
        "            \"\\nTrack Renames: \" + str(Track_Renames) + \\\n",
        "            \"\\nDeduplicate Mode: \" + Deduplicate_Mode + \\\n",
        "            \"\\nDeduplicate Use Trash: \" + str(Deduplicate_Use_Trash))\n",
        "  ### Compressing log file.\n",
        "  get_ipython().system_raw(\"rm -f /root/rclone_log.zip && zip -r -q -j -9 /root/rclone_log.zip /root/.rclone_log/ && rm -rf /root/.rclone_log/ && mkdir -p -m 666 /root/.rclone_log/\")\n",
        "  ### Send Log\n",
        "  if os.path.isfile(\"/root/rclone_log.zip\"):\n",
        "    try:\n",
        "      files.download(\"/root/rclone_log.zip\")\n",
        "      get_ipython().system_raw(\"rm -f /root/rclone_log.zip\")\n",
        "      display(HTML(\"<center><h2 style=\\\"font-family:Trebuchet MS;color:#4f8bd6;\\\">Sending log to your browser...</h2><br></center>\"))\n",
        "    except:\n",
        "      get_ipython().system_raw(\"mv /root/rclone_log.zip /content/rclone_log_$(date +%Y-%m-%d_%H.%M.%S).zip\")\n",
        "      display(HTML(\"<center><h2 style=\\\"font-family:Trebuchet MS;color:#4f8bd6;\\\">You can use file explorer to download the log file.</h2><br><img src=\\\"https://raw.githubusercontent.com/Sparoney/RcloneLab/master/res/rclonelab/01.png\\\"><br></center>\"))\n",
        "  else:\n",
        "    clear_output(wait=True)\n",
        "    display(HTML(\"<center><h2 style=\\\"font-family:Trebuchet MS;color:#ce2121;\\\">There is no log file.</h2><br></center>\"))\n",
        "\n",
        "### Operation has been successfully completed.\n",
        "if os.path.isfile(\"/usr/bin/rclone\") == False:\n",
        "  clear_output(wait=True)\n",
        "  display(HTML(\"<center><h2 style=\\\"font-family:Trebuchet MS;color:#ce2121;\\\">❌ Please run the installation cell above first.</h2><br></center>\"))\n",
        "elif Mode == \"qBittorrent\" and Source.strip() != \"\":\n",
        "  display(HTML(\"<center><h2 style=\\\"font-family:Trebuchet MS;color:#ce2121;\\\">❌ Please empty the Source field in qBittorrent mode.</h2><br></center>\"))\n",
        "elif Mode == \"Mount\" and Source.strip() == \"\":\n",
        "  display(HTML(\"<center><h2 style=\\\"font-family:Trebuchet MS;color:#ce2121;\\\">❌ The Source field is empty.</h2><br></center>\"))\n",
        "elif Mode != \"Config\":\n",
        "  display(HTML(\"<center><h2 style=\\\"font-family:Trebuchet MS;color:#00b24c;\\\">✅ Operation has been successfully completed.</h2><br></center>\"))"
      ],
      "execution_count": null,
      "outputs": []
    },
    {
      "cell_type": "markdown",
      "metadata": {
        "id": "cHTe9qp2E6f5"
      },
      "source": [
        "# **10**. NZBget\n",
        "# <img src='https://avatars1.githubusercontent.com/u/3368377?s=400&v=4' height=\"60\" alt=\"logo\"/><img src='https://raw.githubusercontent.com/linuxserver/docker-templates/master/linuxserver.io/img/nzbget-banner.png' height=\"52\" alt=\"nzbget\"/>"
      ]
    },
    {
      "cell_type": "code",
      "metadata": {
        "id": "UinZqhU6XBKF",
        "cellView": "form"
      },
      "source": [
        "#@markdown <h3>← Click Here to Use NZBget (<i>ngrok</i>)</h3>\n",
        "Ngrok_Token = \"\" #@param {type:\"string\"}\n",
        "\n",
        "import os, psutil, uuid, time, urllib.request, json; from IPython.display import clear_output\n",
        "import ipywidgets as widgets\n",
        "from IPython.display import HTML, clear_output\n",
        "from google.colab import output\n",
        "\n",
        "class MakeButton(object):\n",
        "  def __init__(self, title, callback):\n",
        "    self._title = title\n",
        "    self._callback = callback\n",
        "  def _repr_html_(self):\n",
        "    callback_id = 'button-' + str(uuid.uuid4())\n",
        "    output.register_callback(callback_id, self._callback)\n",
        "    template = \"\"\"<button class=\"p-Widget jupyter-widgets jupyter-button widget-button mod-info\" id=\"{callback_id}\">{title}</button>\n",
        "        <script>\n",
        "          document.querySelector(\"#{callback_id}\").onclick = (e) => {{\n",
        "            google.colab.kernel.invokeFunction('{callback_id}', [], {{}})\n",
        "            e.preventDefault();\n",
        "          }};\n",
        "        </script>\"\"\"\n",
        "    html = template.format(title=self._title, callback_id=callback_id)\n",
        "    return html\n",
        "  \n",
        "def MakeLabel(description, button_style):\n",
        "  return widgets.Button(description=description, disabled=True, button_style=button_style)\n",
        "\n",
        "if os.path.isfile(\"/usr/local/bin/ngrok\") == False:\n",
        "  !wget -q -c -nc https://bin.equinox.io/c/4VmDzA7iaHb/ngrok-stable-linux-amd64.zip\n",
        "  !unzip -qq -n ngrok-stable-linux-amd64.zip\n",
        "  !mv ngrok /usr/local/bin/ngrok\n",
        "  !rm -f /content/ngrok-stable-linux-amd64.zip\n",
        "  print(\"ngrok successfully installed.\")\n",
        "  clear_output(wait=True)\n",
        "else:\n",
        "  print(\"ngrok already installed. Skipping... \")\n",
        "  clear_output(wait=True)\n",
        "  !pkill ngrok\n",
        "\n",
        "def RandomGenerator():\n",
        "  return time.strftime(\"%S\") + str(time.time()).split(\".\")[-1]\n",
        "\n",
        "def CheckProcess(process, command):\n",
        "  for pid in psutil.pids():\n",
        "    try:\n",
        "      p = psutil.Process(pid)\n",
        "      if process in p.name():\n",
        "        for arg in p.cmdline():\n",
        "          if command in str(arg):  \n",
        "            return True\n",
        "          else:\n",
        "            pass\n",
        "      else:\n",
        "        pass\n",
        "    except:\n",
        "      continue\n",
        "\n",
        "try:\n",
        "  try:\n",
        "    Random_NumberNZ\n",
        "  except NameError:\n",
        "    Random_NumberNZ = RandomGenerator()\n",
        "    display(MakeLabel('Installing in Progress', 'warning'))\n",
        "  if os.path.isfile(\"/content/nzbget/nzbget\") == False:\n",
        "    !mkdir /content/nzbget\n",
        "    get_ipython().system_raw(\"rm -rf /content/sample_data/ && wget https://nzbget.net/download/nzbget-latest-bin-linux.run && sh nzbget-latest-bin-linux.run\")\n",
        "  if CheckProcess(\"nzbget\", \"\") != True:\n",
        "    get_ipython().system_raw(\"/content/nzbget/nzbget -s &\")\n",
        "except:\n",
        "  clear_output(wait=True)\n",
        "\n",
        "get_ipython().system_raw('/usr/local/bin/ngrok authtoken $Ngrok_Token && /usr/local/bin/ngrok http 6789 &')\n",
        "time.sleep(10)\n",
        "clear_output(wait=True)\n",
        "with urllib.request.urlopen('http://localhost:4040/api/tunnels') as response:\n",
        "  data = json.loads(response.read().decode())\n",
        "  host = data['tunnels'][0]['public_url'][8:]\n",
        "  print(f'Open this link in new tab http://{host}')"
      ],
      "execution_count": null,
      "outputs": []
    },
    {
      "cell_type": "markdown",
      "metadata": {
        "id": "kAdRu4gm5k8v"
      },
      "source": [
        "# **11**. 7-Zip + UNRAR\n",
        "<img src='https://yuju.pw/y/qUkg.png' height=\"65\" alt=\"7zip\">"
      ]
    },
    {
      "cell_type": "code",
      "metadata": {
        "id": "MXv72l138scn",
        "cellView": "form"
      },
      "source": [
        "#@markdown <h3><b>←</b> <i>Required:</i> Install 7-Zip + UNRAR\n",
        "!sudo apt update\n",
        "!sudo apt install p7zip-full p7zip-rar unrar rar"
      ],
      "execution_count": null,
      "outputs": []
    },
    {
      "cell_type": "code",
      "metadata": {
        "cellView": "form",
        "id": "VjDJz38G9fqo"
      },
      "source": [
        "#@markdown <h3>» Run to change current working directory\n",
        "import os\n",
        "new_dir = \"\" #@param {type:\"string\"}\n",
        "\n",
        "%cd \"$new_dir\""
      ],
      "execution_count": null,
      "outputs": []
    },
    {
      "cell_type": "code",
      "metadata": {
        "id": "QTmQKpsm8fFQ",
        "cellView": "form"
      },
      "source": [
        "#@title » Extract Archive (<i>.zip, .rar, .7z, etc.</i>)\n",
        "import os, sys, re\n",
        "\n",
        "archive_file_path = \"\" #@param {type:\"string\"}\n",
        "os.environ['inputFile'] = archive_file_path\n",
        "\n",
        "!7z e \"$inputFile\""
      ],
      "execution_count": null,
      "outputs": []
    },
    {
      "cell_type": "code",
      "metadata": {
        "cellView": "form",
        "id": "pWKlqyFP_qkX"
      },
      "source": [
        "#@title » Create .zip from Folder\n",
        "import os, sys, re\n",
        "\n",
        "folder_path = \"\" #@param {type:\"string\"}\n",
        "\n",
        "output_file_path = re.search(\"^[\\/].+\\/\", folder_path)\n",
        "output_file_path_raw = output_file_path.group(0)\n",
        "delsplit = re.search(\"\\/(?:.(?!\\/))+$\", folder_path)\n",
        "folder_name = re.sub(\"^[\\/]\", \"\", delsplit.group(0))\n",
        "\n",
        "os.environ['inputDir'] = folder_path\n",
        "os.environ['outputPath'] = output_file_path_raw\n",
        "os.environ['folderName'] = folder_name\n",
        "\n",
        "!7z a -tzip \"$outputPath\"/\"$folderName\".zip \"$inputDir\""
      ],
      "execution_count": null,
      "outputs": []
    }
  ]
}