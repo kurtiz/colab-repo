{
  "cells": [
    {
      "cell_type": "markdown",
      "metadata": {
        "id": "view-in-github",
        "colab_type": "text"
      },
      "source": [
        "<a href=\"https://colab.research.google.com/github/kurtiz/colab-repo/blob/main/Python_3_4_Setup_For_Development.ipynb\" target=\"_parent\"><img src=\"https://colab.research.google.com/assets/colab-badge.svg\" alt=\"Open In Colab\"/></a>"
      ]
    },
    {
      "cell_type": "code",
      "source": [
        "#@title **Installs some required libraries**\n",
        "!apt-get install build-essential checkinstall\n",
        "\n",
        "!apt-get install libreadline-gplv2-dev libncursesw5-dev libssl-dev libsqlite3-dev tk-dev libgdbm-dev libc6-dev libbz2-dev"
      ],
      "metadata": {
        "id": "wOsSBr9bHCig",
        "cellView": "form"
      },
      "execution_count": null,
      "outputs": []
    },
    {
      "cell_type": "code",
      "source": [
        "#@title **Downloads and Installs Python 3.4**\n",
        "!cd /usr/src && wget https://www.python.org/ftp/python/3.4.4/Python-3.4.4.tgz && tar xzf Python-3.4.4.tgz && cd Python-3.4.4 && ./configure && make altinstall"
      ],
      "metadata": {
        "id": "h_qawhXkHNfZ",
        "cellView": "form"
      },
      "execution_count": null,
      "outputs": []
    },
    {
      "cell_type": "code",
      "source": [
        "#@title **Tests if it was installed successfully**\n",
        "!python3.4 --version"
      ],
      "metadata": {
        "id": "CpD2vcJxJLNW",
        "cellView": "form"
      },
      "execution_count": null,
      "outputs": []
    },
    {
      "cell_type": "code",
      "source": [
        "#@title **Copy the necessary header files to the python3.4 dev folder**\n",
        "!cp /usr/src/Python-3.4.4/Include/ /usr/include/python3.4 -R\n",
        "\n",
        "!cp /usr/src/Python-3.4.4/pyconfig.h /usr/include/python3.4"
      ],
      "metadata": {
        "id": "Z3gwqNlpNa32",
        "cellView": "form"
      },
      "execution_count": 12,
      "outputs": []
    }
  ],
  "metadata": {
    "colab": {
      "provenance": [],
      "include_colab_link": true
    },
    "kernelspec": {
      "display_name": "Python 3",
      "name": "python3"
    }
  },
  "nbformat": 4,
  "nbformat_minor": 0
}