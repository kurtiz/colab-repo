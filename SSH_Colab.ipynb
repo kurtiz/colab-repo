{
  "cells": [
    {
      "cell_type": "markdown",
      "metadata": {
        "id": "view-in-github",
        "colab_type": "text"
      },
      "source": [
        "<a href=\"https://colab.research.google.com/github/kurtiz/colab-repo/blob/main/SSH_Colab.ipynb\" target=\"_parent\"><img src=\"https://colab.research.google.com/assets/colab-badge.svg\" alt=\"Open In Colab\"/></a>"
      ]
    },
    {
      "cell_type": "code",
      "execution_count": null,
      "metadata": {
        "id": "1J-hmXVOTgPF"
      },
      "outputs": [],
      "source": [
        "#@title Update Server OS { form-width: \"50%\", display-mode: \"form\" }\n",
        "!apt update"
      ]
    },
    {
      "cell_type": "code",
      "execution_count": null,
      "metadata": {
        "id": "QLvAA7mwStNi"
      },
      "outputs": [],
      "source": [
        "#@title Install Modules for Downloading { form-width: \"50%\", display-mode: \"form\" }\n",
        "!apt install transmission-cli axel\n",
        "!pip install mediakit"
      ]
    },
    {
      "cell_type": "code",
      "execution_count": null,
      "metadata": {
        "id": "H3PDuDRrJHgb"
      },
      "outputs": [],
      "source": [
        "#@title Install SSH and MEGA-CMD { form-width: \"50%\", display-mode: \"form\" }\n",
        "!apt update\n",
        "!apt install ssh\n",
        "!axel -v -n 10 \"https://mega.nz/linux/repo/xUbuntu_18.04/amd64/megacmd-xUbuntu_18.04_amd64.deb\"\n",
        "!dpkg -i megacmd-xUbuntu_18.04_amd64.deb\n",
        "!apt install --fix-broken"
      ]
    },
    {
      "cell_type": "code",
      "execution_count": null,
      "metadata": {
        "id": "MdmRkQX2sg6A"
      },
      "outputs": [],
      "source": [
        "#@title Download and Authorize Ngrok { form-width: \"50%\", display-mode: \"form\" }\n",
        "! wget -q -c -nc https://bin.equinox.io/c/4VmDzA7iaHb/ngrok-stable-linux-amd64.zip\n",
        "! unzip -qq -n ngrok-stable-linux-amd64.zip\n",
        "\n",
        "print(\"Get your authtoken from https://dashboard.ngrok.com/auth\")\n",
        "import getpass\n",
        "authtoken = getpass.getpass()\n",
        "\n",
        "get_ipython().system_raw('./ngrok authtoken $authtoken && ./ngrok tcp 22 &')"
      ]
    },
    {
      "cell_type": "code",
      "execution_count": null,
      "metadata": {
        "id": "0KKnlPaEwOhz"
      },
      "outputs": [],
      "source": [
        "#@title Setup Server For SSH Connection { form-width: \"50%\", display-mode: \"form\" }\n",
        "import random, string, urllib.request, json, getpass\n",
        "\n",
        "#Generate root password\n",
        "password = ''.join(random.choice(string.ascii_letters + string.digits) for i in range(20))\n",
        "\n",
        "#Download ngrok\n",
        "! wget -q -c -nc https://bin.equinox.io/c/4VmDzA7iaHb/ngrok-stable-linux-amd64.zip\n",
        "! unzip -qq -n ngrok-stable-linux-amd64.zip\n",
        "\n",
        "#Setup sshd\n",
        "! apt-get install -qq -o=Dpkg::Use-Pty=0 openssh-server pwgen > /dev/null\n",
        "\n",
        "#Set root password\n",
        "! echo root:$password | chpasswd\n",
        "! mkdir -p /var/run/sshd\n",
        "! echo \"PermitRootLogin yes\" >> /etc/ssh/sshd_config\n",
        "! echo \"PasswordAuthentication yes\" >> /etc/ssh/sshd_config\n",
        "! echo \"LD_LIBRARY_PATH=/usr/lib64-nvidia\" >> /root/.bashrc\n",
        "! echo \"export LD_LIBRARY_PATH\" >> /root/.bashrc\n",
        "\n",
        "#Run sshd\n",
        "get_ipython().system_raw('/usr/sbin/sshd -D &')\n",
        "\n",
        "#Ask token\n",
        "print(\"Copy authtoken from https://dashboard.ngrok.com/auth\")\n",
        "authtoken = getpass.getpass()\n",
        "\n",
        "#Create tunnel\n",
        "get_ipython().system_raw('./ngrok authtoken $authtoken && ./ngrok tcp 22 &')\n",
        "\n",
        "#Get public address and print connect command\n",
        "with urllib.request.urlopen('http://localhost:4040/api/tunnels') as response:\n",
        "  data = json.loads(response.read().decode())\n",
        "  (host, port) = data['tunnels'][0]['public_url'][6:].split(':')\n",
        "  print(f'SSH command: ssh -p{port} root@{host}')\n",
        "\n",
        "#Print root password\n",
        "print(f'Root password: {password}')"
      ]
    },
    {
      "cell_type": "code",
      "execution_count": null,
      "metadata": {
        "id": "l6db-DI3V55u"
      },
      "outputs": [],
      "source": [
        "#@title Torrent Downloader { form-width: \"50%\", display-mode: \"form\" }\n",
        "download_directory = \"/content/\" #@param {type:\"string\"}\n",
        "magnet_link = \"\" #@param {type:\"string\"}\n",
        "!transmission-cli -w  \"$download_directory\" \"$magnet_link\""
      ]
    },
    {
      "cell_type": "code",
      "execution_count": null,
      "metadata": {
        "id": "kQuUpkEzP4yA"
      },
      "outputs": [],
      "source": [
        "#@title File Downloader { form-width: \"50%\", display-mode: \"form\" }\n",
        "download_directory = \"/content/\" #@param {type:\"string\"}\n",
        "download_link = \"\" #@param {type:\"string\"}\n",
        "number_of_connections = 10 #@param {type:\"integer\"}\n",
        "!axel -v -n \"$number_of_connections\" -o \"$download_directory\" \"$download_link\""
      ]
    },
    {
      "cell_type": "code",
      "execution_count": null,
      "metadata": {
        "id": "DRMbB_6fKSSp"
      },
      "outputs": [],
      "source": [
        "#@title Mega.io Login { form-width: \"50%\", display-mode: \"form\" }\n",
        "email = \"\" #@param {type:\"string\"}\n",
        "password = \"\" #@param {type:\"string\"}\n",
        "!mega-login \"$email\" \"$password\""
      ]
    },
    {
      "cell_type": "code",
      "execution_count": null,
      "metadata": {
        "id": "r4JWAEecWXN_"
      },
      "outputs": [],
      "source": [
        "#@title Mega File Uploader { form-width: \"50%\", display-mode: \"form\" }\n",
        "local_file_path = \"\" #@param {type:\"string\"}\n",
        "remote_file_path = \"\" #@param {type:\"string\"}\n",
        "!mega-put \"$local_file_path\" \"$remote_file_path\""
      ]
    },
    {
      "cell_type": "code",
      "execution_count": null,
      "metadata": {
        "cellView": "form",
        "id": "OH2swl-uXaF_"
      },
      "outputs": [],
      "source": [
        "#@title Log Out of Mega.io\n",
        "!mega-logout"
      ]
    },
    {
      "cell_type": "code",
      "execution_count": null,
      "metadata": {
        "id": "d3nzy-AEWm95"
      },
      "outputs": [],
      "source": [
        "#@title Mount Google Drive { form-width: \"50%\", display-mode: \"form\" }\n",
        "from google.colab import drive\n",
        "drive.mount('/content/drive')"
      ]
    },
    {
      "cell_type": "code",
      "execution_count": null,
      "metadata": {
        "colab": {
          "background_save": true
        },
        "id": "Oi7var7qXsNc"
      },
      "outputs": [],
      "source": [
        "#@title Zip or Compress Files { form-width: \"50%\", display-mode: \"form\" }\n",
        "output_file_path = \"\" #@param {type:\"string\"}\n",
        "file_or_directory_to_zip = \"\" #@param {type:\"string\"}\n",
        "!7z a \"$output_file_path\" \"$file_or_directory_to_zip\""
      ]
    },
    {
      "cell_type": "code",
      "execution_count": null,
      "metadata": {
        "colab": {
          "background_save": true
        },
        "id": "3HDOXCXcZTOE"
      },
      "outputs": [],
      "source": [
        "#@title Copy Files to Google Drive { form-width: \"50%\", display-mode: \"form\" }\n",
        "local_file_path = \"\" #@param {type:\"string\"}\n",
        "google_drive_path = \"\" #@param [\"/content/drive/MyDrive\", \"\"] {allow-input: true}\n",
        "variable_name = \"Folder\"\n",
        "!cp -v \"$local_file_path\" \"$google_drive_path\""
      ]
    },
    {
      "cell_type": "code",
      "execution_count": null,
      "metadata": {
        "id": "iI1ihGYwfLeo"
      },
      "outputs": [],
      "source": [
        "!gdown.pl/./gdown.pl \"\""
      ]
    },
    {
      "cell_type": "code",
      "execution_count": null,
      "metadata": {
        "id": "H2hzhVsqknYK",
        "colab": {
          "base_uri": "https://localhost:8080/"
        },
        "outputId": "ebb18e68-60d4-4e90-f24f-4738576d6108"
      },
      "outputs": [
        {
          "output_type": "execute_result",
          "data": {
            "text/plain": [
              "['35.204.96.173']"
            ]
          },
          "metadata": {},
          "execution_count": 6
        }
      ],
      "source": [
        "!curl ipecho.net/plain"
      ]
    }
  ],
  "metadata": {
    "colab": {
      "collapsed_sections": [],
      "name": "SSH Colab.ipynb",
      "provenance": [],
      "mount_file_id": "1gqLNQjG0rysvrVkL-cWRjQXO_fcedPW8",
      "authorship_tag": "ABX9TyPTehUAOIUsqDgS8y90Q8Ao",
      "include_colab_link": true
    },
    "kernelspec": {
      "display_name": "Python 3",
      "name": "python3"
    },
    "language_info": {
      "name": "python"
    }
  },
  "nbformat": 4,
  "nbformat_minor": 0
}